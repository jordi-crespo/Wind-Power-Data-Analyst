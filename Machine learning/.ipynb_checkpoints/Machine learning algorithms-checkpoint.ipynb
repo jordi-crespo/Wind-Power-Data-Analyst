{
 "cells": [
  {
   "cell_type": "code",
   "execution_count": 2,
   "metadata": {},
   "outputs": [],
   "source": [
    "import pandas as pd\n",
    "import numpy as np\n",
    "import matplotlib.pyplot as plt \n",
    "%matplotlib inline"
   ]
  },
  {
   "cell_type": "markdown",
   "metadata": {},
   "source": [
    "# Loading the data"
   ]
  },
  {
   "cell_type": "code",
   "execution_count": 4,
   "metadata": {},
   "outputs": [
    {
     "data": {
      "text/html": [
       "<div>\n",
       "<style scoped>\n",
       "    .dataframe tbody tr th:only-of-type {\n",
       "        vertical-align: middle;\n",
       "    }\n",
       "\n",
       "    .dataframe tbody tr th {\n",
       "        vertical-align: top;\n",
       "    }\n",
       "\n",
       "    .dataframe thead th {\n",
       "        text-align: right;\n",
       "    }\n",
       "</style>\n",
       "<table border=\"1\" class=\"dataframe\">\n",
       "  <thead>\n",
       "    <tr style=\"text-align: right;\">\n",
       "      <th></th>\n",
       "      <th>Temperatura a 2m °C</th>\n",
       "      <th>velocidade do vento a 10m</th>\n",
       "      <th>umidade relativa a 2 m</th>\n",
       "      <th>pressão hpa</th>\n",
       "      <th>WPD</th>\n",
       "      <th>ano</th>\n",
       "      <th>dia</th>\n",
       "      <th>hora</th>\n",
       "    </tr>\n",
       "  </thead>\n",
       "  <tbody>\n",
       "    <tr>\n",
       "      <th>0</th>\n",
       "      <td>26.43</td>\n",
       "      <td>4.911</td>\n",
       "      <td>69.77</td>\n",
       "      <td>1009.2</td>\n",
       "      <td>117.230155</td>\n",
       "      <td>2004</td>\n",
       "      <td>1</td>\n",
       "      <td>100</td>\n",
       "    </tr>\n",
       "    <tr>\n",
       "      <th>1</th>\n",
       "      <td>26.04</td>\n",
       "      <td>4.995</td>\n",
       "      <td>72.70</td>\n",
       "      <td>1009.5</td>\n",
       "      <td>123.526100</td>\n",
       "      <td>2004</td>\n",
       "      <td>1</td>\n",
       "      <td>200</td>\n",
       "    </tr>\n",
       "    <tr>\n",
       "      <th>2</th>\n",
       "      <td>25.57</td>\n",
       "      <td>3.355</td>\n",
       "      <td>77.10</td>\n",
       "      <td>1009.7</td>\n",
       "      <td>37.486827</td>\n",
       "      <td>2004</td>\n",
       "      <td>1</td>\n",
       "      <td>300</td>\n",
       "    </tr>\n",
       "    <tr>\n",
       "      <th>3</th>\n",
       "      <td>25.23</td>\n",
       "      <td>2.798</td>\n",
       "      <td>78.30</td>\n",
       "      <td>1009.8</td>\n",
       "      <td>21.771341</td>\n",
       "      <td>2004</td>\n",
       "      <td>1</td>\n",
       "      <td>400</td>\n",
       "    </tr>\n",
       "    <tr>\n",
       "      <th>4</th>\n",
       "      <td>25.10</td>\n",
       "      <td>2.744</td>\n",
       "      <td>78.10</td>\n",
       "      <td>1010.4</td>\n",
       "      <td>20.557634</td>\n",
       "      <td>2004</td>\n",
       "      <td>1</td>\n",
       "      <td>500</td>\n",
       "    </tr>\n",
       "  </tbody>\n",
       "</table>\n",
       "</div>"
      ],
      "text/plain": [
       "   Temperatura a 2m °C  velocidade do vento a 10m  umidade relativa a 2 m  \\\n",
       "0                26.43                      4.911                   69.77   \n",
       "1                26.04                      4.995                   72.70   \n",
       "2                25.57                      3.355                   77.10   \n",
       "3                25.23                      2.798                   78.30   \n",
       "4                25.10                      2.744                   78.10   \n",
       "\n",
       "   pressão hpa         WPD   ano  dia  hora  \n",
       "0       1009.2  117.230155  2004    1   100  \n",
       "1       1009.5  123.526100  2004    1   200  \n",
       "2       1009.7   37.486827  2004    1   300  \n",
       "3       1009.8   21.771341  2004    1   400  \n",
       "4       1010.4   20.557634  2004    1   500  "
      ]
     },
     "execution_count": 4,
     "metadata": {},
     "output_type": "execute_result"
    }
   ],
   "source": [
    "df = pd.read_pickle(\"data/data_for_ml.pkl\")\n",
    "df.head()"
   ]
  },
  {
   "cell_type": "code",
   "execution_count": 48,
   "metadata": {},
   "outputs": [],
   "source": [
    "df_train = df[(df[\"ano\"]!=2007) & (df[\"ano\"]!=2006) ]\n",
    "\n",
    "df_test = df[df[\"ano\"]==2006]"
   ]
  },
  {
   "cell_type": "code",
   "execution_count": 49,
   "metadata": {},
   "outputs": [],
   "source": [
    "X_train = df_train.iloc[:,:4].values\n",
    "y_train = df_train.iloc[:,4].values\n",
    "X_test = df_test.iloc[:,:4].values\n",
    "y_test= df_test.iloc[:,4].values"
   ]
  },
  {
   "cell_type": "code",
   "execution_count": 50,
   "metadata": {},
   "outputs": [
    {
     "data": {
      "text/plain": [
       "100.5732584091019"
      ]
     },
     "execution_count": 50,
     "metadata": {},
     "output_type": "execute_result"
    }
   ],
   "source": [
    "y_test.mean()"
   ]
  },
  {
   "cell_type": "code",
   "execution_count": 15,
   "metadata": {},
   "outputs": [],
   "source": [
    "from sklearn.preprocessing import StandardScaler\n",
    "sc = StandardScaler()\n",
    "X_train = sc.fit_transform(X_train)\n",
    "X_test = sc.transform(X_test)"
   ]
  },
  {
   "cell_type": "code",
   "execution_count": 9,
   "metadata": {},
   "outputs": [],
   "source": [
    "variable_objetivo = \"WPD\"\n",
    "variables_independientes = df.drop(variable_objetivo, axis=1).columns"
   ]
  },
  {
   "cell_type": "code",
   "execution_count": 10,
   "metadata": {},
   "outputs": [],
   "source": [
    "df_x = df[variables_independientes]\n",
    "df_y = df[variable_objetivo]"
   ]
  },
  {
   "cell_type": "markdown",
   "metadata": {},
   "source": [
    "# Standardizing the data"
   ]
  },
  {
   "cell_type": "code",
   "execution_count": 5,
   "metadata": {},
   "outputs": [],
   "source": [
    "from sklearn.preprocessing import StandardScaler"
   ]
  },
  {
   "cell_type": "code",
   "execution_count": 6,
   "metadata": {},
   "outputs": [],
   "source": [
    "escalador = StandardScaler()\n",
    "variables_imputadas =  escalador.fit_transform(df_x)\n"
   ]
  },
  {
   "cell_type": "code",
   "execution_count": 7,
   "metadata": {},
   "outputs": [
    {
     "data": {
      "text/html": [
       "<div>\n",
       "<style scoped>\n",
       "    .dataframe tbody tr th:only-of-type {\n",
       "        vertical-align: middle;\n",
       "    }\n",
       "\n",
       "    .dataframe tbody tr th {\n",
       "        vertical-align: top;\n",
       "    }\n",
       "\n",
       "    .dataframe thead th {\n",
       "        text-align: right;\n",
       "    }\n",
       "</style>\n",
       "<table border=\"1\" class=\"dataframe\">\n",
       "  <thead>\n",
       "    <tr style=\"text-align: right;\">\n",
       "      <th></th>\n",
       "      <th>Temperatura a 2m °C</th>\n",
       "      <th>velocidade do vento a 10m</th>\n",
       "      <th>umidade relativa a 2 m</th>\n",
       "      <th>pressão hpa</th>\n",
       "    </tr>\n",
       "  </thead>\n",
       "  <tbody>\n",
       "    <tr>\n",
       "      <th>0</th>\n",
       "      <td>-0.401849</td>\n",
       "      <td>0.496924</td>\n",
       "      <td>0.056244</td>\n",
       "      <td>-0.793673</td>\n",
       "    </tr>\n",
       "    <tr>\n",
       "      <th>1</th>\n",
       "      <td>-0.544353</td>\n",
       "      <td>0.536412</td>\n",
       "      <td>0.272848</td>\n",
       "      <td>-0.663258</td>\n",
       "    </tr>\n",
       "    <tr>\n",
       "      <th>2</th>\n",
       "      <td>-0.716089</td>\n",
       "      <td>-0.234538</td>\n",
       "      <td>0.598122</td>\n",
       "      <td>-0.576315</td>\n",
       "    </tr>\n",
       "    <tr>\n",
       "      <th>3</th>\n",
       "      <td>-0.840323</td>\n",
       "      <td>-0.496379</td>\n",
       "      <td>0.686833</td>\n",
       "      <td>-0.532844</td>\n",
       "    </tr>\n",
       "    <tr>\n",
       "      <th>4</th>\n",
       "      <td>-0.887825</td>\n",
       "      <td>-0.521764</td>\n",
       "      <td>0.672048</td>\n",
       "      <td>-0.272014</td>\n",
       "    </tr>\n",
       "  </tbody>\n",
       "</table>\n",
       "</div>"
      ],
      "text/plain": [
       "   Temperatura a 2m °C  velocidade do vento a 10m  umidade relativa a 2 m  \\\n",
       "0            -0.401849                   0.496924                0.056244   \n",
       "1            -0.544353                   0.536412                0.272848   \n",
       "2            -0.716089                  -0.234538                0.598122   \n",
       "3            -0.840323                  -0.496379                0.686833   \n",
       "4            -0.887825                  -0.521764                0.672048   \n",
       "\n",
       "   pressão hpa  \n",
       "0    -0.793673  \n",
       "1    -0.663258  \n",
       "2    -0.576315  \n",
       "3    -0.532844  \n",
       "4    -0.272014  "
      ]
     },
     "execution_count": 7,
     "metadata": {},
     "output_type": "execute_result"
    }
   ],
   "source": [
    "df_x_imputado = pd.DataFrame(variables_imputadas, columns = variables_independientes)\n",
    "df_x_imputado.head()"
   ]
  },
  {
   "cell_type": "markdown",
   "metadata": {},
   "source": [
    "**I define rmse for cross_val_score:**"
   ]
  },
  {
   "cell_type": "code",
   "execution_count": 22,
   "metadata": {},
   "outputs": [],
   "source": [
    "def rmse(y_true, y_pred):\n",
    "    return np.sqrt(mean_squared_error(y_true, y_pred))\n",
    "\n",
    "def rmse_cv(estimador, X, y):\n",
    "    preds = estimador.predict(X)\n",
    "    return rmse(y, preds)"
   ]
  },
  {
   "cell_type": "markdown",
   "metadata": {},
   "source": [
    "\n",
    "**I create the following functions to evaluate the model and put the results in the same table**"
   ]
  },
  {
   "cell_type": "code",
   "execution_count": 23,
   "metadata": {},
   "outputs": [],
   "source": [
    "from sklearn.model_selection import cross_validate\n",
    "from sklearn.metrics import mean_squared_error\n",
    "\n",
    "def evaluar_modelo(estimador, X, y):\n",
    "    resultados_estimador = cross_validate(estimador, X, y,\n",
    "                     scoring= rmse_cv, n_jobs=-1, cv=10, return_train_score=True)# roc_auc por que esta muy desvalanceada y no le importa tanto\n",
    "    return resultados_estimador\n",
    "\n",
    "def ver_resultados():\n",
    "    resultados_df  = pd.DataFrame(resultados).T\n",
    "    resultados_cols = resultados_df.columns\n",
    "    for col in resultados_df:\n",
    "        resultados_df[col] = resultados_df[col].apply(np.mean)\n",
    "        resultados_df[col+\"_idx\"] = resultados_df[col] / resultados_df[col].max()\n",
    "    return resultados_df"
   ]
  },
  {
   "cell_type": "markdown",
   "metadata": {},
   "source": [
    "**I create an emptu dictionary to introduce the results**"
   ]
  },
  {
   "cell_type": "code",
   "execution_count": 24,
   "metadata": {},
   "outputs": [],
   "source": [
    "resultados = {}"
   ]
  },
  {
   "cell_type": "markdown",
   "metadata": {},
   "source": [
    "**importing the algorithms**"
   ]
  },
  {
   "cell_type": "code",
   "execution_count": 25,
   "metadata": {},
   "outputs": [],
   "source": [
    "from sklearn.linear_model import ElasticNet, Lasso, Ridge, LinearRegression\n",
    "from sklearn.neighbors import KNeighborsRegressor\n",
    "from sklearn.ensemble import BaggingRegressor\n",
    "from sklearn.ensemble import AdaBoostRegressor\n",
    "from sklearn.ensemble import GradientBoostingRegressor\n",
    "from sklearn.ensemble import RandomForestRegressor\n",
    "from xgboost import XGBRegressor\n",
    "from sklearn.tree import ExtraTreeRegressor\n",
    "from sklearn.svm import  SVR"
   ]
  },
  {
   "cell_type": "code",
   "execution_count": 26,
   "metadata": {},
   "outputs": [],
   "source": [
    "resultados[\"elastic\"] = evaluar_modelo(ElasticNet(random_state=42), X_train, y_train)\n",
    "resultados[\"Lasso\"] = evaluar_modelo(Lasso(random_state=42), X_train, y_train)\n",
    "resultados[\"Ridge\"] = evaluar_modelo(Ridge(random_state=42),  X_train, y_train)\n",
    "resultados[\"Linear\"] = evaluar_modelo(LinearRegression(),  X_train, y_train)\n",
    "resultados[\"SVR\"] = evaluar_modelo(SVR(), X_train, y_train)\n",
    "resultados[\"KNN\"] = evaluar_modelo(KNeighborsRegressor(), X_train, y_train)\n",
    "resultados[\"Bagging\"] = evaluar_modelo(BaggingRegressor(random_state=42), X_train, y_train)\n",
    "resultados[\"Extratree\"] = evaluar_modelo(BaggingRegressor(n_estimators=100,random_state=42, base_estimator=ExtraTreeRegressor()), X_train, y_train)\n",
    "resultados[\"AdaBoost\"] = evaluar_modelo(AdaBoostRegressor(random_state=42), X_train, y_train)\n",
    "resultados[\"gradientboost_100\"] = evaluar_modelo(GradientBoostingRegressor(random_state=42), X_train, y_train)\n",
    "resultados[\"Randomforest\"] = evaluar_modelo(RandomForestRegressor(random_state=42), X_train, y_train)\n",
    "resultados[\"XGB\"] = evaluar_modelo(XGBRegressor(random_state=42), X_train, y_train)"
   ]
  },
  {
   "cell_type": "code",
   "execution_count": 27,
   "metadata": {},
   "outputs": [
    {
     "data": {
      "text/html": [
       "<div>\n",
       "<style scoped>\n",
       "    .dataframe tbody tr th:only-of-type {\n",
       "        vertical-align: middle;\n",
       "    }\n",
       "\n",
       "    .dataframe tbody tr th {\n",
       "        vertical-align: top;\n",
       "    }\n",
       "\n",
       "    .dataframe thead th {\n",
       "        text-align: right;\n",
       "    }\n",
       "</style>\n",
       "<table border=\"1\" class=\"dataframe\">\n",
       "  <thead>\n",
       "    <tr style=\"text-align: right;\">\n",
       "      <th></th>\n",
       "      <th>fit_time</th>\n",
       "      <th>score_time</th>\n",
       "      <th>test_score</th>\n",
       "      <th>train_score</th>\n",
       "      <th>fit_time_idx</th>\n",
       "      <th>score_time_idx</th>\n",
       "      <th>test_score_idx</th>\n",
       "      <th>train_score_idx</th>\n",
       "    </tr>\n",
       "  </thead>\n",
       "  <tbody>\n",
       "    <tr>\n",
       "      <th>elastic</th>\n",
       "      <td>0.018180</td>\n",
       "      <td>0.000998</td>\n",
       "      <td>64.971523</td>\n",
       "      <td>67.953307</td>\n",
       "      <td>0.000444</td>\n",
       "      <td>0.000402</td>\n",
       "      <td>1.000000</td>\n",
       "      <td>1.000000</td>\n",
       "    </tr>\n",
       "    <tr>\n",
       "      <th>Lasso</th>\n",
       "      <td>0.026909</td>\n",
       "      <td>0.001025</td>\n",
       "      <td>52.935312</td>\n",
       "      <td>52.197489</td>\n",
       "      <td>0.000657</td>\n",
       "      <td>0.000413</td>\n",
       "      <td>0.814746</td>\n",
       "      <td>0.768138</td>\n",
       "    </tr>\n",
       "    <tr>\n",
       "      <th>Ridge</th>\n",
       "      <td>0.041206</td>\n",
       "      <td>0.000915</td>\n",
       "      <td>52.916030</td>\n",
       "      <td>52.129459</td>\n",
       "      <td>0.001006</td>\n",
       "      <td>0.000368</td>\n",
       "      <td>0.814450</td>\n",
       "      <td>0.767136</td>\n",
       "    </tr>\n",
       "    <tr>\n",
       "      <th>Linear</th>\n",
       "      <td>0.005648</td>\n",
       "      <td>0.000800</td>\n",
       "      <td>52.916727</td>\n",
       "      <td>52.129458</td>\n",
       "      <td>0.000138</td>\n",
       "      <td>0.000322</td>\n",
       "      <td>0.814460</td>\n",
       "      <td>0.767136</td>\n",
       "    </tr>\n",
       "    <tr>\n",
       "      <th>SVR</th>\n",
       "      <td>40.968656</td>\n",
       "      <td>2.484677</td>\n",
       "      <td>26.414912</td>\n",
       "      <td>29.701416</td>\n",
       "      <td>1.000000</td>\n",
       "      <td>1.000000</td>\n",
       "      <td>0.406561</td>\n",
       "      <td>0.437086</td>\n",
       "    </tr>\n",
       "    <tr>\n",
       "      <th>KNN</th>\n",
       "      <td>0.015299</td>\n",
       "      <td>0.064089</td>\n",
       "      <td>11.649745</td>\n",
       "      <td>8.941582</td>\n",
       "      <td>0.000373</td>\n",
       "      <td>0.025794</td>\n",
       "      <td>0.179305</td>\n",
       "      <td>0.131584</td>\n",
       "    </tr>\n",
       "    <tr>\n",
       "      <th>Bagging</th>\n",
       "      <td>1.319157</td>\n",
       "      <td>0.013640</td>\n",
       "      <td>0.828703</td>\n",
       "      <td>0.442532</td>\n",
       "      <td>0.032199</td>\n",
       "      <td>0.005490</td>\n",
       "      <td>0.012755</td>\n",
       "      <td>0.006512</td>\n",
       "    </tr>\n",
       "    <tr>\n",
       "      <th>Extratree</th>\n",
       "      <td>4.318103</td>\n",
       "      <td>0.137840</td>\n",
       "      <td>0.660459</td>\n",
       "      <td>0.317955</td>\n",
       "      <td>0.105400</td>\n",
       "      <td>0.055476</td>\n",
       "      <td>0.010165</td>\n",
       "      <td>0.004679</td>\n",
       "    </tr>\n",
       "    <tr>\n",
       "      <th>AdaBoost</th>\n",
       "      <td>1.566872</td>\n",
       "      <td>0.015098</td>\n",
       "      <td>11.011742</td>\n",
       "      <td>10.939182</td>\n",
       "      <td>0.038246</td>\n",
       "      <td>0.006077</td>\n",
       "      <td>0.169486</td>\n",
       "      <td>0.160981</td>\n",
       "    </tr>\n",
       "    <tr>\n",
       "      <th>gradientboost_100</th>\n",
       "      <td>1.585498</td>\n",
       "      <td>0.008977</td>\n",
       "      <td>1.327268</td>\n",
       "      <td>1.131785</td>\n",
       "      <td>0.038700</td>\n",
       "      <td>0.003613</td>\n",
       "      <td>0.020428</td>\n",
       "      <td>0.016655</td>\n",
       "    </tr>\n",
       "    <tr>\n",
       "      <th>Randomforest</th>\n",
       "      <td>1.183856</td>\n",
       "      <td>0.010325</td>\n",
       "      <td>0.840994</td>\n",
       "      <td>0.427896</td>\n",
       "      <td>0.028897</td>\n",
       "      <td>0.004155</td>\n",
       "      <td>0.012944</td>\n",
       "      <td>0.006297</td>\n",
       "    </tr>\n",
       "    <tr>\n",
       "      <th>XGB</th>\n",
       "      <td>1.514760</td>\n",
       "      <td>0.012340</td>\n",
       "      <td>1.338019</td>\n",
       "      <td>1.152646</td>\n",
       "      <td>0.036974</td>\n",
       "      <td>0.004967</td>\n",
       "      <td>0.020594</td>\n",
       "      <td>0.016962</td>\n",
       "    </tr>\n",
       "  </tbody>\n",
       "</table>\n",
       "</div>"
      ],
      "text/plain": [
       "                    fit_time  score_time  test_score  train_score  \\\n",
       "elastic             0.018180    0.000998   64.971523    67.953307   \n",
       "Lasso               0.026909    0.001025   52.935312    52.197489   \n",
       "Ridge               0.041206    0.000915   52.916030    52.129459   \n",
       "Linear              0.005648    0.000800   52.916727    52.129458   \n",
       "SVR                40.968656    2.484677   26.414912    29.701416   \n",
       "KNN                 0.015299    0.064089   11.649745     8.941582   \n",
       "Bagging             1.319157    0.013640    0.828703     0.442532   \n",
       "Extratree           4.318103    0.137840    0.660459     0.317955   \n",
       "AdaBoost            1.566872    0.015098   11.011742    10.939182   \n",
       "gradientboost_100   1.585498    0.008977    1.327268     1.131785   \n",
       "Randomforest        1.183856    0.010325    0.840994     0.427896   \n",
       "XGB                 1.514760    0.012340    1.338019     1.152646   \n",
       "\n",
       "                   fit_time_idx  score_time_idx  test_score_idx  \\\n",
       "elastic                0.000444        0.000402        1.000000   \n",
       "Lasso                  0.000657        0.000413        0.814746   \n",
       "Ridge                  0.001006        0.000368        0.814450   \n",
       "Linear                 0.000138        0.000322        0.814460   \n",
       "SVR                    1.000000        1.000000        0.406561   \n",
       "KNN                    0.000373        0.025794        0.179305   \n",
       "Bagging                0.032199        0.005490        0.012755   \n",
       "Extratree              0.105400        0.055476        0.010165   \n",
       "AdaBoost               0.038246        0.006077        0.169486   \n",
       "gradientboost_100      0.038700        0.003613        0.020428   \n",
       "Randomforest           0.028897        0.004155        0.012944   \n",
       "XGB                    0.036974        0.004967        0.020594   \n",
       "\n",
       "                   train_score_idx  \n",
       "elastic                   1.000000  \n",
       "Lasso                     0.768138  \n",
       "Ridge                     0.767136  \n",
       "Linear                    0.767136  \n",
       "SVR                       0.437086  \n",
       "KNN                       0.131584  \n",
       "Bagging                   0.006512  \n",
       "Extratree                 0.004679  \n",
       "AdaBoost                  0.160981  \n",
       "gradientboost_100         0.016655  \n",
       "Randomforest              0.006297  \n",
       "XGB                       0.016962  "
      ]
     },
     "execution_count": 27,
     "metadata": {},
     "output_type": "execute_result"
    }
   ],
   "source": [
    "ver_resultados()"
   ]
  },
  {
   "cell_type": "code",
   "execution_count": 28,
   "metadata": {},
   "outputs": [],
   "source": [
    "rf = RandomForestRegressor()\n",
    "tree = BaggingRegressor(n_estimators=100,random_state=42, base_estimator=ExtraTreeRegressor())\n",
    "bagging = BaggingRegressor()"
   ]
  },
  {
   "cell_type": "code",
   "execution_count": 29,
   "metadata": {},
   "outputs": [
    {
     "name": "stderr",
     "output_type": "stream",
     "text": [
      "/usr/local/lib/python3.6/dist-packages/sklearn/ensemble/forest.py:246: FutureWarning: The default value of n_estimators will change from 10 in version 0.20 to 100 in 0.22.\n",
      "  \"10 in version 0.20 to 100 in 0.22.\", FutureWarning)\n"
     ]
    },
    {
     "data": {
      "text/plain": [
       "BaggingRegressor(base_estimator=None, bootstrap=True,\n",
       "         bootstrap_features=False, max_features=1.0, max_samples=1.0,\n",
       "         n_estimators=10, n_jobs=None, oob_score=False, random_state=None,\n",
       "         verbose=0, warm_start=False)"
      ]
     },
     "execution_count": 29,
     "metadata": {},
     "output_type": "execute_result"
    }
   ],
   "source": [
    "rf.fit(X_train,y_train)\n",
    "tree.fit(X_train,y_train)\n",
    "bagging.fit(X_train,y_train)"
   ]
  },
  {
   "cell_type": "code",
   "execution_count": 30,
   "metadata": {},
   "outputs": [],
   "source": [
    "y_forest = rf.predict(X_test)\n",
    "y_tree = tree.predict(X_test)\n",
    "y_bagging = bagging.predict(X_test)"
   ]
  },
  {
   "cell_type": "code",
   "execution_count": 31,
   "metadata": {},
   "outputs": [],
   "source": [
    "from sklearn import metrics"
   ]
  },
  {
   "cell_type": "code",
   "execution_count": 32,
   "metadata": {},
   "outputs": [],
   "source": [
    "forest_MAE = metrics.mean_absolute_error(y_test, y_forest)\n",
    "forest_RMSE = np.sqrt(metrics.mean_squared_error(y_test, y_forest))\n",
    "forest_R2 = metrics.r2_score(y_test, y_forest)\n",
    "tree_MAE = metrics.mean_absolute_error(y_test, y_tree)\n",
    "tree_RSE = np.sqrt(metrics.mean_squared_error(y_test, y_tree))\n",
    "tree_R2 = metrics.r2_score(y_test, y_tree)\n",
    "bagging_MAE = metrics.mean_absolute_error(y_test, y_bagging)\n",
    "bagging_RMSE = np.sqrt(metrics.mean_squared_error(y_test, y_bagging))\n",
    "bagging_R2 = metrics.r2_score(y_test, y_bagging)"
   ]
  },
  {
   "cell_type": "code",
   "execution_count": 33,
   "metadata": {},
   "outputs": [],
   "source": [
    "errores = {\n",
    "    \"Random_forest\": [forest_MAE,forest_RMSE,forest_R2],\n",
    "    \"ExtraTree\": [tree_MAE,tree_RSE,tree_R2],\n",
    "    \"Bagging\": [bagging_MAE,bagging_RMSE,bagging_R2]\n",
    "    \n",
    "}"
   ]
  },
  {
   "cell_type": "code",
   "execution_count": 34,
   "metadata": {},
   "outputs": [
    {
     "data": {
      "text/plain": [
       "{'Random_forest': [0.2644758230929679, 1.689227153960198, 0.9998288489732485],\n",
       " 'ExtraTree': [0.1725379880857512, 1.1815559705454168, 0.9999162640409053],\n",
       " 'Bagging': [0.2573464428392854, 1.2029853610647998, 0.9999131991284456]}"
      ]
     },
     "execution_count": 34,
     "metadata": {},
     "output_type": "execute_result"
    }
   ],
   "source": [
    "errores"
   ]
  },
  {
   "cell_type": "code",
   "execution_count": 35,
   "metadata": {},
   "outputs": [],
   "source": [
    "error = pd.DataFrame(data=errores)"
   ]
  },
  {
   "cell_type": "code",
   "execution_count": 36,
   "metadata": {},
   "outputs": [],
   "source": [
    "error = error.rename(index={0: 'MAE', 1:\"RMSE\", 2: \"R2\"})"
   ]
  },
  {
   "cell_type": "markdown",
   "metadata": {},
   "source": [
    "# Comparing the best regressors"
   ]
  },
  {
   "cell_type": "code",
   "execution_count": 37,
   "metadata": {},
   "outputs": [
    {
     "data": {
      "text/html": [
       "<div>\n",
       "<style scoped>\n",
       "    .dataframe tbody tr th:only-of-type {\n",
       "        vertical-align: middle;\n",
       "    }\n",
       "\n",
       "    .dataframe tbody tr th {\n",
       "        vertical-align: top;\n",
       "    }\n",
       "\n",
       "    .dataframe thead th {\n",
       "        text-align: right;\n",
       "    }\n",
       "</style>\n",
       "<table border=\"1\" class=\"dataframe\">\n",
       "  <thead>\n",
       "    <tr style=\"text-align: right;\">\n",
       "      <th></th>\n",
       "      <th>Random_forest</th>\n",
       "      <th>ExtraTree</th>\n",
       "      <th>Bagging</th>\n",
       "    </tr>\n",
       "  </thead>\n",
       "  <tbody>\n",
       "    <tr>\n",
       "      <th>MAE</th>\n",
       "      <td>0.264476</td>\n",
       "      <td>0.172538</td>\n",
       "      <td>0.257346</td>\n",
       "    </tr>\n",
       "    <tr>\n",
       "      <th>RMSE</th>\n",
       "      <td>1.689227</td>\n",
       "      <td>1.181556</td>\n",
       "      <td>1.202985</td>\n",
       "    </tr>\n",
       "    <tr>\n",
       "      <th>R2</th>\n",
       "      <td>0.999829</td>\n",
       "      <td>0.999916</td>\n",
       "      <td>0.999913</td>\n",
       "    </tr>\n",
       "  </tbody>\n",
       "</table>\n",
       "</div>"
      ],
      "text/plain": [
       "      Random_forest  ExtraTree   Bagging\n",
       "MAE        0.264476   0.172538  0.257346\n",
       "RMSE       1.689227   1.181556  1.202985\n",
       "R2         0.999829   0.999916  0.999913"
      ]
     },
     "execution_count": 37,
     "metadata": {},
     "output_type": "execute_result"
    }
   ],
   "source": [
    "error\n"
   ]
  },
  {
   "cell_type": "markdown",
   "metadata": {},
   "source": [
    "# Importing the results of the Artifical neural network created in Artificial neural network file"
   ]
  },
  {
   "cell_type": "code",
   "execution_count": 38,
   "metadata": {},
   "outputs": [],
   "source": [
    "from sklearn.externals import joblib"
   ]
  },
  {
   "cell_type": "code",
   "execution_count": 39,
   "metadata": {},
   "outputs": [],
   "source": [
    "ann = joblib.load('ann2años.pkl')"
   ]
  },
  {
   "cell_type": "code",
   "execution_count": 40,
   "metadata": {},
   "outputs": [],
   "source": [
    "y_ann = ann.predict(X_test) "
   ]
  },
  {
   "cell_type": "code",
   "execution_count": 41,
   "metadata": {},
   "outputs": [],
   "source": [
    "ann_MAE = metrics.mean_absolute_error(y_test, y_ann)\n",
    "ann_RMSE = np.sqrt(metrics.mean_squared_error(y_test, y_ann))\n",
    "ann_R2 = metrics.r2_score(y_test, y_ann)"
   ]
  },
  {
   "cell_type": "code",
   "execution_count": 42,
   "metadata": {},
   "outputs": [],
   "source": [
    "error[\"ANN\"] = ann_MAE, ann_RMSE, ann_R2"
   ]
  },
  {
   "cell_type": "code",
   "execution_count": 60,
   "metadata": {},
   "outputs": [
    {
     "data": {
      "text/html": [
       "<div>\n",
       "<style scoped>\n",
       "    .dataframe tbody tr th:only-of-type {\n",
       "        vertical-align: middle;\n",
       "    }\n",
       "\n",
       "    .dataframe tbody tr th {\n",
       "        vertical-align: top;\n",
       "    }\n",
       "\n",
       "    .dataframe thead th {\n",
       "        text-align: right;\n",
       "    }\n",
       "</style>\n",
       "<table border=\"1\" class=\"dataframe\">\n",
       "  <thead>\n",
       "    <tr style=\"text-align: right;\">\n",
       "      <th></th>\n",
       "      <th>Random_forest</th>\n",
       "      <th>ExtraTree</th>\n",
       "      <th>Bagging</th>\n",
       "      <th>ANN</th>\n",
       "    </tr>\n",
       "  </thead>\n",
       "  <tbody>\n",
       "    <tr>\n",
       "      <th>MAE</th>\n",
       "      <td>0.200380</td>\n",
       "      <td>0.116444</td>\n",
       "      <td>0.200525</td>\n",
       "      <td>7.100676</td>\n",
       "    </tr>\n",
       "    <tr>\n",
       "      <th>RMSE</th>\n",
       "      <td>0.481428</td>\n",
       "      <td>0.251843</td>\n",
       "      <td>0.436424</td>\n",
       "      <td>10.325655</td>\n",
       "    </tr>\n",
       "    <tr>\n",
       "      <th>R2</th>\n",
       "      <td>0.999983</td>\n",
       "      <td>0.999995</td>\n",
       "      <td>0.999986</td>\n",
       "      <td>0.992328</td>\n",
       "    </tr>\n",
       "  </tbody>\n",
       "</table>\n",
       "</div>"
      ],
      "text/plain": [
       "      Random_forest  ExtraTree   Bagging        ANN\n",
       "MAE        0.200380   0.116444  0.200525   7.100676\n",
       "RMSE       0.481428   0.251843  0.436424  10.325655\n",
       "R2         0.999983   0.999995  0.999986   0.992328"
      ]
     },
     "execution_count": 60,
     "metadata": {},
     "output_type": "execute_result"
    }
   ],
   "source": [
    "error"
   ]
  },
  {
   "cell_type": "code",
   "execution_count": null,
   "metadata": {},
   "outputs": [],
   "source": []
  }
 ],
 "metadata": {
  "kernelspec": {
   "display_name": "Python 3",
   "language": "python",
   "name": "python3"
  },
  "language_info": {
   "codemirror_mode": {
    "name": "ipython",
    "version": 3
   },
   "file_extension": ".py",
   "mimetype": "text/x-python",
   "name": "python",
   "nbconvert_exporter": "python",
   "pygments_lexer": "ipython3",
   "version": "3.7.1"
  }
 },
 "nbformat": 4,
 "nbformat_minor": 2
}
