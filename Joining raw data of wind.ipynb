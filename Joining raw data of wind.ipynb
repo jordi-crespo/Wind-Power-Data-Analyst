{
 "cells": [
  {
   "cell_type": "code",
   "execution_count": 3,
   "metadata": {},
   "outputs": [],
   "source": [
    "import pandas as pd\n",
    "import numpy as np"
   ]
  },
  {
   "cell_type": "markdown",
   "metadata": {},
   "source": [
    "\n",
    "I receive the data from 2008 to 20015 in one text and the data from 20015 to 20018 in another txt. In both comes wind speed information with your address, for each hour, for each month of each year."
   ]
  },
  {
   "cell_type": "code",
   "execution_count": 4,
   "metadata": {},
   "outputs": [],
   "source": [
    "filename1 = \"../dataset/excel.datos.amanda.mod.por.ella/viento2.txt\""
   ]
  },
  {
   "cell_type": "code",
   "execution_count": null,
   "metadata": {},
   "outputs": [],
   "source": []
  },
  {
   "cell_type": "code",
   "execution_count": 5,
   "metadata": {},
   "outputs": [
    {
     "data": {
      "text/html": [
       "<div>\n",
       "<style scoped>\n",
       "    .dataframe tbody tr th:only-of-type {\n",
       "        vertical-align: middle;\n",
       "    }\n",
       "\n",
       "    .dataframe tbody tr th {\n",
       "        vertical-align: top;\n",
       "    }\n",
       "\n",
       "    .dataframe thead th {\n",
       "        text-align: right;\n",
       "    }\n",
       "</style>\n",
       "<table border=\"1\" class=\"dataframe\">\n",
       "  <thead>\n",
       "    <tr style=\"text-align: right;\">\n",
       "      <th></th>\n",
       "      <th>Data e Hora</th>\n",
       "      <th>Velocidade do vento(m/s)</th>\n",
       "      <th>Direção do vento</th>\n",
       "    </tr>\n",
       "  </thead>\n",
       "  <tbody>\n",
       "    <tr>\n",
       "      <th>0</th>\n",
       "      <td>201507170000</td>\n",
       "      <td>5.654</td>\n",
       "      <td>120</td>\n",
       "    </tr>\n",
       "    <tr>\n",
       "      <th>1</th>\n",
       "      <td>201507170100</td>\n",
       "      <td>7.196</td>\n",
       "      <td>150</td>\n",
       "    </tr>\n",
       "    <tr>\n",
       "      <th>2</th>\n",
       "      <td>201507170200</td>\n",
       "      <td>5.140</td>\n",
       "      <td>120</td>\n",
       "    </tr>\n",
       "    <tr>\n",
       "      <th>3</th>\n",
       "      <td>201507170300</td>\n",
       "      <td>8.224</td>\n",
       "      <td>140</td>\n",
       "    </tr>\n",
       "    <tr>\n",
       "      <th>4</th>\n",
       "      <td>201507170400</td>\n",
       "      <td>5.140</td>\n",
       "      <td>170</td>\n",
       "    </tr>\n",
       "  </tbody>\n",
       "</table>\n",
       "</div>"
      ],
      "text/plain": [
       "    Data e Hora Velocidade do vento(m/s) Direção do vento\n",
       "0  201507170000                    5.654              120\n",
       "1  201507170100                    7.196              150\n",
       "2  201507170200                    5.140              120\n",
       "3  201507170300                    8.224              140\n",
       "4  201507170400                    5.140              170"
      ]
     },
     "execution_count": 5,
     "metadata": {},
     "output_type": "execute_result"
    }
   ],
   "source": [
    "df = pd.read_csv(filename1, sep='\\t', encoding = \"ISO-8859-1\", \n",
    "                 usecols= [\"Data e Hora\",\"Velocidade do vento(m/s)\",\"Direção do vento\"],\n",
    "                )\n",
    "df.head()"
   ]
  },
  {
   "cell_type": "markdown",
   "metadata": {},
   "source": [
    "\n",
    "I observe that the date is an integer but that the speed and direction are as object, so that later it will have to be changed. For now let's see what values are missing in the dataset"
   ]
  },
  {
   "cell_type": "code",
   "execution_count": 6,
   "metadata": {},
   "outputs": [
    {
     "data": {
      "text/plain": [
       "Data e Hora                  int64\n",
       "Velocidade do vento(m/s)    object\n",
       "Direção do vento            object\n",
       "dtype: object"
      ]
     },
     "execution_count": 6,
     "metadata": {},
     "output_type": "execute_result"
    }
   ],
   "source": [
    "df.dtypes"
   ]
  },
  {
   "cell_type": "code",
   "execution_count": 7,
   "metadata": {},
   "outputs": [],
   "source": [
    "import missingno as msno"
   ]
  },
  {
   "cell_type": "code",
   "execution_count": 8,
   "metadata": {},
   "outputs": [
    {
     "data": {
      "text/plain": [
       "<matplotlib.axes._subplots.AxesSubplot at 0x24a84862ac8>"
      ]
     },
     "execution_count": 8,
     "metadata": {},
     "output_type": "execute_result"
    },
    {
     "data": {
      "image/png": "[encoded data removed]",
      "text/plain": [
       "<Figure size 1800x720 with 2 Axes>"
      ]
     },
     "metadata": {
      "needs_background": "light"
     },
     "output_type": "display_data"
    }
   ],
   "source": [
    "msno.matrix(df)"
   ]
  },
  {
   "cell_type": "code",
   "execution_count": 9,
   "metadata": {},
   "outputs": [
    {
     "data": {
      "text/html": [
       "<div>\n",
       "<style scoped>\n",
       "    .dataframe tbody tr th:only-of-type {\n",
       "        vertical-align: middle;\n",
       "    }\n",
       "\n",
       "    .dataframe tbody tr th {\n",
       "        vertical-align: top;\n",
       "    }\n",
       "\n",
       "    .dataframe thead th {\n",
       "        text-align: right;\n",
       "    }\n",
       "</style>\n",
       "<table border=\"1\" class=\"dataframe\">\n",
       "  <thead>\n",
       "    <tr style=\"text-align: right;\">\n",
       "      <th></th>\n",
       "      <th>Data e Hora</th>\n",
       "      <th>Velocidade do vento(m/s)</th>\n",
       "      <th>Direção do vento</th>\n",
       "    </tr>\n",
       "  </thead>\n",
       "  <tbody>\n",
       "    <tr>\n",
       "      <th>3841</th>\n",
       "      <td>201512250500</td>\n",
       "      <td>0 000</td>\n",
       "      <td>NaN</td>\n",
       "    </tr>\n",
       "    <tr>\n",
       "      <th>4161</th>\n",
       "      <td>201601090200</td>\n",
       "      <td>0 000</td>\n",
       "      <td>NaN</td>\n",
       "    </tr>\n",
       "    <tr>\n",
       "      <th>4163</th>\n",
       "      <td>201601090400</td>\n",
       "      <td>0 000</td>\n",
       "      <td>NaN</td>\n",
       "    </tr>\n",
       "    <tr>\n",
       "      <th>4186</th>\n",
       "      <td>201601100300</td>\n",
       "      <td>0 000</td>\n",
       "      <td>NaN</td>\n",
       "    </tr>\n",
       "    <tr>\n",
       "      <th>4416</th>\n",
       "      <td>201601191700</td>\n",
       "      <td>0 000</td>\n",
       "      <td>NaN</td>\n",
       "    </tr>\n",
       "  </tbody>\n",
       "</table>\n",
       "</div>"
      ],
      "text/plain": [
       "       Data e Hora Velocidade do vento(m/s) Direção do vento\n",
       "3841  201512250500                    0 000              NaN\n",
       "4161  201601090200                    0 000              NaN\n",
       "4163  201601090400                    0 000              NaN\n",
       "4186  201601100300                    0 000              NaN\n",
       "4416  201601191700                    0 000              NaN"
      ]
     },
     "execution_count": 9,
     "metadata": {},
     "output_type": "execute_result"
    }
   ],
   "source": [
    "df[df.isnull().any(axis =1)].head()"
   ]
  },
  {
   "cell_type": "code",
   "execution_count": 10,
   "metadata": {},
   "outputs": [
    {
     "data": {
      "text/html": [
       "<div>\n",
       "<style scoped>\n",
       "    .dataframe tbody tr th:only-of-type {\n",
       "        vertical-align: middle;\n",
       "    }\n",
       "\n",
       "    .dataframe tbody tr th {\n",
       "        vertical-align: top;\n",
       "    }\n",
       "\n",
       "    .dataframe thead th {\n",
       "        text-align: right;\n",
       "    }\n",
       "</style>\n",
       "<table border=\"1\" class=\"dataframe\">\n",
       "  <thead>\n",
       "    <tr style=\"text-align: right;\">\n",
       "      <th></th>\n",
       "      <th>Data e Hora</th>\n",
       "      <th>Velocidade do vento(m/s)</th>\n",
       "      <th>Direção do vento</th>\n",
       "    </tr>\n",
       "  </thead>\n",
       "  <tbody>\n",
       "  </tbody>\n",
       "</table>\n",
       "</div>"
      ],
      "text/plain": [
       "Empty DataFrame\n",
       "Columns: [Data e Hora, Velocidade do vento(m/s), Direção do vento]\n",
       "Index: []"
      ]
     },
     "execution_count": 10,
     "metadata": {},
     "output_type": "execute_result"
    }
   ],
   "source": [
    "df[df[\"Direção do vento\"]==0]"
   ]
  },
  {
   "cell_type": "code",
   "execution_count": 11,
   "metadata": {
    "scrolled": true
   },
   "outputs": [
    {
     "data": {
      "text/plain": [
       "90       5230\n",
       "80       4732\n",
       "100      3759\n",
       "70       2724\n",
       "110      2118\n",
       "140      1478\n",
       "120      1454\n",
       "130      1310\n",
       "150      1255\n",
       "60        824\n",
       "160       757\n",
       "170       419\n",
       "180       224\n",
       "50        214\n",
       "0 100     157\n",
       "190       112\n",
       "0 110      98\n",
       "40         97\n",
       "200        78\n",
       "0 090      71\n",
       "4 100      69\n",
       "8 100      60\n",
       "20         54\n",
       "4 110      53\n",
       "210        53\n",
       "220        47\n",
       "8 110      44\n",
       "230        43\n",
       "0 120      42\n",
       "4 090      42\n",
       "         ... \n",
       "2 100      23\n",
       "0 080      22\n",
       "280        20\n",
       "2 110      19\n",
       "4 120      18\n",
       "290        17\n",
       "8 090      17\n",
       "300        14\n",
       "310        13\n",
       "340        12\n",
       "6 110      11\n",
       "4 080      11\n",
       "330        11\n",
       "8 120      10\n",
       "320         9\n",
       "0 130       8\n",
       "2 090       8\n",
       "8 080       6\n",
       "6 090       5\n",
       "6 100       4\n",
       "0 140       3\n",
       "4 130       2\n",
       "6 120       2\n",
       "2 120       2\n",
       "2 080       1\n",
       "0 150       1\n",
       "0 060       1\n",
       "0 190       1\n",
       "2 130       1\n",
       "4 260       1\n",
       "Name: Direção do vento, Length: 69, dtype: int64"
      ]
     },
     "execution_count": 11,
     "metadata": {},
     "output_type": "execute_result"
    }
   ],
   "source": [
    "df[\"Direção do vento\"].value_counts()"
   ]
  },
  {
   "cell_type": "code",
   "execution_count": 12,
   "metadata": {},
   "outputs": [
    {
     "data": {
      "text/plain": [
       "5.140     2348\n",
       "4.626     2287\n",
       "5.654     2229\n",
       "6.168     2113\n",
       "4.112     2102\n",
       "6.682     1929\n",
       "3.598     1809\n",
       "7.196     1805\n",
       "3.084     1654\n",
       "7.710     1560\n",
       "2.570     1542\n",
       "8.224     1283\n",
       "2.056     1173\n",
       "1.542      956\n",
       "8.738      937\n",
       "9.252      679\n",
       "9.766      486\n",
       "1.028      420\n",
       "10.28      396\n",
       "10.79      196\n",
       "11.30      138\n",
       "0 000      110\n",
       "11.82       54\n",
       ".514        31\n",
       "-999        25\n",
       "12.33       21\n",
       "12.85        8\n",
       "10.794       1\n",
       "14.90        1\n",
       "Name: Velocidade do vento(m/s), dtype: int64"
      ]
     },
     "execution_count": 12,
     "metadata": {},
     "output_type": "execute_result"
    }
   ],
   "source": [
    "df[\"Velocidade do vento(m/s)\"].value_counts()"
   ]
  },
  {
   "cell_type": "code",
   "execution_count": 13,
   "metadata": {},
   "outputs": [
    {
     "name": "stdout",
     "output_type": "stream",
     "text": [
      "Data e Hora | 0.0 | int64\n",
      "Velocidade do vento(m/s) | 0.0 | object\n",
      "Direção do vento | 0.0038878874633301525 | object\n"
     ]
    }
   ],
   "source": [
    "n_records = len(df)\n",
    "def valores_inexistentes_col(df):\n",
    "    for columna in df:\n",
    "        print(\"{} | {} | {}\".format(\n",
    "            df[columna].name, len(df[df[columna].isnull()]) / (1.0*n_records), df[columna].dtype\n",
    "        ))\n",
    "\n",
    "valores_inexistentes_col(df)"
   ]
  },
  {
   "cell_type": "code",
   "execution_count": 14,
   "metadata": {},
   "outputs": [
    {
     "data": {
      "text/plain": [
       "array(['120', '150', '140', '170', '130', '160', '110', '90', '100', '80',\n",
       "       '70', '0 110', '4 110', '0 100', '180', '190', '8 120', '8 110',\n",
       "       '4 100', '0 120', '2 110', '4 120', '8 100', '0 140', '6 120',\n",
       "       '0 090', '6 110', '0 130', '4 090', '60', '2 100', '2 130',\n",
       "       '0 060', '40', '50', '2 120', '8 090', '4 260', '0 080', nan, '30',\n",
       "       '20', '350', '200', '210', '230', '220', '360', '10', '310', '340',\n",
       "       '330', '-999', '270', '260', '240', '250', '300', '290', '280',\n",
       "       '320', '6 090', '4 130', '0 190', '4 080', '2 080', '2 090',\n",
       "       '8 080', '6 100', '0 150'], dtype=object)"
      ]
     },
     "execution_count": 14,
     "metadata": {},
     "output_type": "execute_result"
    }
   ],
   "source": [
    "df[\"Direção do vento\"].unique()"
   ]
  },
  {
   "cell_type": "code",
   "execution_count": 15,
   "metadata": {},
   "outputs": [
    {
     "data": {
      "text/html": [
       "<div>\n",
       "<style scoped>\n",
       "    .dataframe tbody tr th:only-of-type {\n",
       "        vertical-align: middle;\n",
       "    }\n",
       "\n",
       "    .dataframe tbody tr th {\n",
       "        vertical-align: top;\n",
       "    }\n",
       "\n",
       "    .dataframe thead th {\n",
       "        text-align: right;\n",
       "    }\n",
       "</style>\n",
       "<table border=\"1\" class=\"dataframe\">\n",
       "  <thead>\n",
       "    <tr style=\"text-align: right;\">\n",
       "      <th></th>\n",
       "      <th>Data e Hora</th>\n",
       "      <th>Velocidade do vento(m/s)</th>\n",
       "      <th>Direção do vento</th>\n",
       "    </tr>\n",
       "  </thead>\n",
       "  <tbody>\n",
       "  </tbody>\n",
       "</table>\n",
       "</div>"
      ],
      "text/plain": [
       "Empty DataFrame\n",
       "Columns: [Data e Hora, Velocidade do vento(m/s), Direção do vento]\n",
       "Index: []"
      ]
     },
     "execution_count": 15,
     "metadata": {},
     "output_type": "execute_result"
    }
   ],
   "source": [
    "df[df[\"Direção do vento\"]==-999]"
   ]
  },
  {
   "cell_type": "code",
   "execution_count": 16,
   "metadata": {},
   "outputs": [
    {
     "data": {
      "text/plain": [
       "array(['5.654', '7.196', '5.140', '8.224', '6.682', '4.626', '6.168',\n",
       "       '7.710', '8.738', '10.794', '4.112', '3.084', '3.598', '9.252',\n",
       "       '11.30', '9.766', '2.570', '10.28', '10.79', '11.82', '12.85',\n",
       "       '12.33', '1.542', '1.028', '2.056', '0 000', '.514', '-999',\n",
       "       '14.90'], dtype=object)"
      ]
     },
     "execution_count": 16,
     "metadata": {},
     "output_type": "execute_result"
    }
   ],
   "source": [
    "df[\"Velocidade do vento(m/s)\"].unique()"
   ]
  },
  {
   "cell_type": "markdown",
   "metadata": {},
   "source": [
    "After making an exploratory analysis of the data, we see several errors in the data:\n",
    " * 1- In the direction of the wind there are values ​​with an incorrect format: 0 100, so when trying to pass it to whole, it will not allow it.\n",
    " * 2- In the same column, there are Nan values, this is obvious since when there is no wind, there is no direction. For the moment, since there are no 0 values, I will put them as such, but when it comes to studying the direction of the wind, I will not take it into account.\n",
    " * 3-In the speed of the veto we see 3 errors:\n",
    "     * 0 000 You have to transform it to 0\n",
    "     * .514 will have to put it as 0.514\n",
    "     * -999 obviously the wind speed can not be negative so it will be eliminated."
   ]
  },
  {
   "cell_type": "markdown",
   "metadata": {},
   "source": [
    "# Removing the data with errors in wind direction"
   ]
  },
  {
   "cell_type": "code",
   "execution_count": null,
   "metadata": {},
   "outputs": [],
   "source": []
  },
  {
   "cell_type": "code",
   "execution_count": 17,
   "metadata": {},
   "outputs": [
    {
     "data": {
      "text/html": [
       "<div>\n",
       "<style scoped>\n",
       "    .dataframe tbody tr th:only-of-type {\n",
       "        vertical-align: middle;\n",
       "    }\n",
       "\n",
       "    .dataframe tbody tr th {\n",
       "        vertical-align: top;\n",
       "    }\n",
       "\n",
       "    .dataframe thead th {\n",
       "        text-align: right;\n",
       "    }\n",
       "</style>\n",
       "<table border=\"1\" class=\"dataframe\">\n",
       "  <thead>\n",
       "    <tr style=\"text-align: right;\">\n",
       "      <th></th>\n",
       "      <th>Data</th>\n",
       "      <th>Velocidade</th>\n",
       "      <th>Direçao</th>\n",
       "    </tr>\n",
       "  </thead>\n",
       "  <tbody>\n",
       "    <tr>\n",
       "      <th>0</th>\n",
       "      <td>201507170000</td>\n",
       "      <td>5.654</td>\n",
       "      <td>120</td>\n",
       "    </tr>\n",
       "    <tr>\n",
       "      <th>1</th>\n",
       "      <td>201507170100</td>\n",
       "      <td>7.196</td>\n",
       "      <td>150</td>\n",
       "    </tr>\n",
       "    <tr>\n",
       "      <th>2</th>\n",
       "      <td>201507170200</td>\n",
       "      <td>5.140</td>\n",
       "      <td>120</td>\n",
       "    </tr>\n",
       "    <tr>\n",
       "      <th>3</th>\n",
       "      <td>201507170300</td>\n",
       "      <td>8.224</td>\n",
       "      <td>140</td>\n",
       "    </tr>\n",
       "    <tr>\n",
       "      <th>4</th>\n",
       "      <td>201507170400</td>\n",
       "      <td>5.140</td>\n",
       "      <td>170</td>\n",
       "    </tr>\n",
       "  </tbody>\n",
       "</table>\n",
       "</div>"
      ],
      "text/plain": [
       "           Data Velocidade Direçao\n",
       "0  201507170000      5.654     120\n",
       "1  201507170100      7.196     150\n",
       "2  201507170200      5.140     120\n",
       "3  201507170300      8.224     140\n",
       "4  201507170400      5.140     170"
      ]
     },
     "execution_count": 17,
     "metadata": {},
     "output_type": "execute_result"
    }
   ],
   "source": [
    "df1 = df.rename(columns={ #renombramos las columnas para que sean legibles\n",
    "    \"Data e Hora\":\"Data\",\n",
    "    \"Velocidade do vento(m/s)\":\"Velocidade\",\n",
    "    \"Direção do vento\":\"Direçao\",\n",
    "   \n",
    "   \n",
    "})\n",
    "df1.head()"
   ]
  },
  {
   "cell_type": "code",
   "execution_count": null,
   "metadata": {},
   "outputs": [],
   "source": []
  },
  {
   "cell_type": "code",
   "execution_count": 18,
   "metadata": {},
   "outputs": [
    {
     "name": "stderr",
     "output_type": "stream",
     "text": [
      "C:\\Users\\Crespo_sexy\\Anaconda3\\envs\\tensorflow\\lib\\site-packages\\ipykernel_launcher.py:3: SettingWithCopyWarning: \n",
      "A value is trying to be set on a copy of a slice from a DataFrame\n",
      "\n",
      "See the caveats in the documentation: http://pandas.pydata.org/pandas-docs/stable/indexing.html#indexing-view-versus-copy\n",
      "  This is separate from the ipykernel package so we can avoid doing imports until\n"
     ]
    }
   ],
   "source": [
    "for i in range(len(df1[\"Direçao\"])):\n",
    "    if(str(df1[\"Direçao\"][i]).find(\" \") != -1):\n",
    "        df1[\"Direçao\"][i] = (int(df1[\"Direçao\"][i].split(\" \")[1]))\n",
    "       "
   ]
  },
  {
   "cell_type": "code",
   "execution_count": 17,
   "metadata": {},
   "outputs": [
    {
     "data": {
      "text/plain": [
       "array(['120', '150', '140', '170', '130', '160', '110', '90', '100', '80',\n",
       "       '70', '0 110', '4 110', '0 100', '180', '190', '8 120', '8 110',\n",
       "       '4 100', '0 120', '2 110', '4 120', '8 100', '0 140', '6 120',\n",
       "       '0 090', '6 110', '0 130', '4 090', '60', '2 100', '2 130',\n",
       "       '0 060', '40', '50', '2 120', '8 090', '4 260', '0 080', nan, '30',\n",
       "       '20', '350', '200', '210', '230', '220', '360', '10', '310', '340',\n",
       "       '330', '-999', '270', '260', '240', '250', '300', '290', '280',\n",
       "       '320', '6 090', '4 130', '0 190', '4 080', '2 080', '2 090',\n",
       "       '8 080', '6 100', '0 150'], dtype=object)"
      ]
     },
     "execution_count": 17,
     "metadata": {},
     "output_type": "execute_result"
    }
   ],
   "source": [
    "df[\"Direção do vento\"].unique()"
   ]
  },
  {
   "cell_type": "code",
   "execution_count": 18,
   "metadata": {},
   "outputs": [
    {
     "data": {
      "text/plain": [
       "array([ 120,  150,  140,  170,  130,  160,  110,   90,  100,   80,   70,\n",
       "        180,  190,   60,   40,   50,  260,    0,   30,   20,  350,  200,\n",
       "        210,  230,  220,  360,   10,  310,  340,  330, -999,  270,  240,\n",
       "        250,  300,  290,  280,  320], dtype=int64)"
      ]
     },
     "execution_count": 18,
     "metadata": {},
     "output_type": "execute_result"
    }
   ],
   "source": [
    "df1[\"Direçao\"]=pd.to_numeric(df1[\"Direçao\"]).fillna(0).astype(np.int64)\n",
    "df1[\"Direçao\"].unique()\n"
   ]
  },
  {
   "cell_type": "code",
   "execution_count": 19,
   "metadata": {},
   "outputs": [
    {
     "data": {
      "text/plain": [
       "array([120, 150, 140, 170, 130, 160, 110,  90, 100,  80,  70, 180, 190,\n",
       "        60,  40,  50, 260,   0,  30,  20, 350, 200, 210, 230, 220, 360,\n",
       "        10, 310, 340, 330, 270, 240, 250, 300, 290, 280, 320], dtype=int64)"
      ]
     },
     "execution_count": 19,
     "metadata": {},
     "output_type": "execute_result"
    }
   ],
   "source": [
    "df1= df1[df1[\"Direçao\"]>=0]\n",
    "df1[\"Direçao\"].unique()"
   ]
  },
  {
   "cell_type": "code",
   "execution_count": 20,
   "metadata": {},
   "outputs": [
    {
     "data": {
      "text/plain": [
       "array(['5.654', '7.196', '5.140', '8.224', '6.682', '4.626', '6.168',\n",
       "       '7.710', '8.738', '10.794', '4.112', '3.084', '3.598', '9.252',\n",
       "       '11.30', '9.766', '2.570', '10.28', '10.79', '11.82', '12.85',\n",
       "       '12.33', '1.542', '1.028', '2.056', '0', '.514', '14.90'],\n",
       "      dtype=object)"
      ]
     },
     "execution_count": 20,
     "metadata": {},
     "output_type": "execute_result"
    }
   ],
   "source": [
    "df1.loc[df1.Velocidade.isin([\n",
    "    \"0 000\"\n",
    "]), \"Velocidade\"] = \"0\"\n",
    "df1.Velocidade.unique()"
   ]
  },
  {
   "cell_type": "code",
   "execution_count": 21,
   "metadata": {},
   "outputs": [
    {
     "data": {
      "text/plain": [
       "array(['5.654', '7.196', '5.140', '8.224', '6.682', '4.626', '6.168',\n",
       "       '7.710', '8.738', '10.794', '4.112', '3.084', '3.598', '9.252',\n",
       "       '11.30', '9.766', '2.570', '10.28', '10.79', '11.82', '12.85',\n",
       "       '12.33', '1.542', '1.028', '2.056', '0', '0.514', '14.90'],\n",
       "      dtype=object)"
      ]
     },
     "execution_count": 21,
     "metadata": {},
     "output_type": "execute_result"
    }
   ],
   "source": [
    "'.514'\n",
    "df1.loc[df1.Velocidade.isin([\n",
    "    \".514\"\n",
    "]), \"Velocidade\"] = \"0.514\"\n",
    "df1.Velocidade.unique()"
   ]
  },
  {
   "cell_type": "code",
   "execution_count": 22,
   "metadata": {},
   "outputs": [
    {
     "data": {
      "text/plain": [
       "array([ 5.654,  7.196,  5.14 ,  8.224,  6.682,  4.626,  6.168,  7.71 ,\n",
       "        8.738, 10.794,  4.112,  3.084,  3.598,  9.252, 11.3  ,  9.766,\n",
       "        2.57 , 10.28 , 10.79 , 11.82 , 12.85 , 12.33 ,  1.542,  1.028,\n",
       "        2.056,  0.   ,  0.514, 14.9  ])"
      ]
     },
     "execution_count": 22,
     "metadata": {},
     "output_type": "execute_result"
    }
   ],
   "source": [
    "df1[\"Velocidade\"]= pd.to_numeric(df1[\"Velocidade\"])\n",
    "df1.Velocidade.unique()\n"
   ]
  },
  {
   "cell_type": "code",
   "execution_count": 23,
   "metadata": {},
   "outputs": [
    {
     "data": {
      "text/plain": [
       "Data            int64\n",
       "Velocidade    float64\n",
       "Direçao         int64\n",
       "dtype: object"
      ]
     },
     "execution_count": 23,
     "metadata": {},
     "output_type": "execute_result"
    }
   ],
   "source": [
    "df1.dtypes"
   ]
  },
  {
   "cell_type": "code",
   "execution_count": 24,
   "metadata": {},
   "outputs": [
    {
     "data": {
      "text/html": [
       "<div>\n",
       "<style scoped>\n",
       "    .dataframe tbody tr th:only-of-type {\n",
       "        vertical-align: middle;\n",
       "    }\n",
       "\n",
       "    .dataframe tbody tr th {\n",
       "        vertical-align: top;\n",
       "    }\n",
       "\n",
       "    .dataframe thead th {\n",
       "        text-align: right;\n",
       "    }\n",
       "</style>\n",
       "<table border=\"1\" class=\"dataframe\">\n",
       "  <thead>\n",
       "    <tr style=\"text-align: right;\">\n",
       "      <th></th>\n",
       "      <th>Data</th>\n",
       "      <th>Velocidade</th>\n",
       "      <th>Direçao</th>\n",
       "    </tr>\n",
       "  </thead>\n",
       "  <tbody>\n",
       "    <tr>\n",
       "      <th>0</th>\n",
       "      <td>2015-07-17 00:00:00</td>\n",
       "      <td>5.654</td>\n",
       "      <td>120</td>\n",
       "    </tr>\n",
       "    <tr>\n",
       "      <th>1</th>\n",
       "      <td>2015-07-17 01:00:00</td>\n",
       "      <td>7.196</td>\n",
       "      <td>150</td>\n",
       "    </tr>\n",
       "    <tr>\n",
       "      <th>2</th>\n",
       "      <td>2015-07-17 02:00:00</td>\n",
       "      <td>5.140</td>\n",
       "      <td>120</td>\n",
       "    </tr>\n",
       "    <tr>\n",
       "      <th>3</th>\n",
       "      <td>2015-07-17 03:00:00</td>\n",
       "      <td>8.224</td>\n",
       "      <td>140</td>\n",
       "    </tr>\n",
       "    <tr>\n",
       "      <th>4</th>\n",
       "      <td>2015-07-17 04:00:00</td>\n",
       "      <td>5.140</td>\n",
       "      <td>170</td>\n",
       "    </tr>\n",
       "  </tbody>\n",
       "</table>\n",
       "</div>"
      ],
      "text/plain": [
       "                 Data  Velocidade  Direçao\n",
       "0 2015-07-17 00:00:00       5.654      120\n",
       "1 2015-07-17 01:00:00       7.196      150\n",
       "2 2015-07-17 02:00:00       5.140      120\n",
       "3 2015-07-17 03:00:00       8.224      140\n",
       "4 2015-07-17 04:00:00       5.140      170"
      ]
     },
     "execution_count": 24,
     "metadata": {},
     "output_type": "execute_result"
    }
   ],
   "source": [
    "df1[\"Data\"] = pd.to_datetime(df1[\"Data\"], yearfirst=True, format='%Y%m%d%H%M')\n",
    "df1.head()"
   ]
  },
  {
   "cell_type": "markdown",
   "metadata": {},
   "source": [
    "# Text 1"
   ]
  },
  {
   "cell_type": "code",
   "execution_count": 19,
   "metadata": {},
   "outputs": [],
   "source": [
    "filename2 =\"../dataset/excel.datos.amanda.mod.por.ella/viento1.txt\""
   ]
  },
  {
   "cell_type": "code",
   "execution_count": 20,
   "metadata": {},
   "outputs": [
    {
     "data": {
      "text/html": [
       "<div>\n",
       "<style scoped>\n",
       "    .dataframe tbody tr th:only-of-type {\n",
       "        vertical-align: middle;\n",
       "    }\n",
       "\n",
       "    .dataframe tbody tr th {\n",
       "        vertical-align: top;\n",
       "    }\n",
       "\n",
       "    .dataframe thead th {\n",
       "        text-align: right;\n",
       "    }\n",
       "</style>\n",
       "<table border=\"1\" class=\"dataframe\">\n",
       "  <thead>\n",
       "    <tr style=\"text-align: right;\">\n",
       "      <th></th>\n",
       "      <th>Unnamed: 0</th>\n",
       "      <th>Data e Hora</th>\n",
       "      <th>Velocidade do vento(m/s)</th>\n",
       "      <th>Direção do vento</th>\n",
       "    </tr>\n",
       "  </thead>\n",
       "  <tbody>\n",
       "    <tr>\n",
       "      <th>0</th>\n",
       "      <td>SBFZ</td>\n",
       "      <td>2008010100</td>\n",
       "      <td>100</td>\n",
       "      <td>4,112</td>\n",
       "    </tr>\n",
       "    <tr>\n",
       "      <th>1</th>\n",
       "      <td>SBFZ</td>\n",
       "      <td>2008010101</td>\n",
       "      <td>110</td>\n",
       "      <td>5,14</td>\n",
       "    </tr>\n",
       "    <tr>\n",
       "      <th>2</th>\n",
       "      <td>SBFZ</td>\n",
       "      <td>2008010102</td>\n",
       "      <td>110</td>\n",
       "      <td>5,654</td>\n",
       "    </tr>\n",
       "    <tr>\n",
       "      <th>3</th>\n",
       "      <td>SBFZ</td>\n",
       "      <td>2008010103</td>\n",
       "      <td>100</td>\n",
       "      <td>4,112</td>\n",
       "    </tr>\n",
       "    <tr>\n",
       "      <th>4</th>\n",
       "      <td>SBFZ</td>\n",
       "      <td>2008010104</td>\n",
       "      <td>100</td>\n",
       "      <td>5,14</td>\n",
       "    </tr>\n",
       "  </tbody>\n",
       "</table>\n",
       "</div>"
      ],
      "text/plain": [
       "  Unnamed: 0 Data e Hora Velocidade do vento(m/s) Direção do vento\n",
       "0       SBFZ  2008010100                      100            4,112\n",
       "1       SBFZ  2008010101                      110             5,14\n",
       "2       SBFZ  2008010102                      110            5,654\n",
       "3       SBFZ  2008010103                      100            4,112\n",
       "4       SBFZ  2008010104                      100             5,14"
      ]
     },
     "execution_count": 20,
     "metadata": {},
     "output_type": "execute_result"
    }
   ],
   "source": [
    "df2 = pd.read_csv(filename2, sep='\\t', encoding = \"ISO-8859-1\",usecols= [0,2,1,4])\n",
    "df2.head() "
   ]
  },
  {
   "cell_type": "code",
   "execution_count": 21,
   "metadata": {},
   "outputs": [
    {
     "data": {
      "text/html": [
       "<div>\n",
       "<style scoped>\n",
       "    .dataframe tbody tr th:only-of-type {\n",
       "        vertical-align: middle;\n",
       "    }\n",
       "\n",
       "    .dataframe tbody tr th {\n",
       "        vertical-align: top;\n",
       "    }\n",
       "\n",
       "    .dataframe thead th {\n",
       "        text-align: right;\n",
       "    }\n",
       "</style>\n",
       "<table border=\"1\" class=\"dataframe\">\n",
       "  <thead>\n",
       "    <tr style=\"text-align: right;\">\n",
       "      <th></th>\n",
       "      <th>Data e Hora</th>\n",
       "      <th>Velocidade do vento(m/s)</th>\n",
       "      <th>Direção do vento</th>\n",
       "    </tr>\n",
       "  </thead>\n",
       "  <tbody>\n",
       "    <tr>\n",
       "      <th>0</th>\n",
       "      <td>2008010100</td>\n",
       "      <td>100</td>\n",
       "      <td>4,112</td>\n",
       "    </tr>\n",
       "    <tr>\n",
       "      <th>1</th>\n",
       "      <td>2008010101</td>\n",
       "      <td>110</td>\n",
       "      <td>5,14</td>\n",
       "    </tr>\n",
       "    <tr>\n",
       "      <th>2</th>\n",
       "      <td>2008010102</td>\n",
       "      <td>110</td>\n",
       "      <td>5,654</td>\n",
       "    </tr>\n",
       "    <tr>\n",
       "      <th>3</th>\n",
       "      <td>2008010103</td>\n",
       "      <td>100</td>\n",
       "      <td>4,112</td>\n",
       "    </tr>\n",
       "    <tr>\n",
       "      <th>4</th>\n",
       "      <td>2008010104</td>\n",
       "      <td>100</td>\n",
       "      <td>5,14</td>\n",
       "    </tr>\n",
       "  </tbody>\n",
       "</table>\n",
       "</div>"
      ],
      "text/plain": [
       "  Data e Hora Velocidade do vento(m/s) Direção do vento\n",
       "0  2008010100                      100            4,112\n",
       "1  2008010101                      110             5,14\n",
       "2  2008010102                      110            5,654\n",
       "3  2008010103                      100            4,112\n",
       "4  2008010104                      100             5,14"
      ]
     },
     "execution_count": 21,
     "metadata": {},
     "output_type": "execute_result"
    }
   ],
   "source": [
    "del df2[\"Unnamed: 0\"]\n",
    "df2.head()"
   ]
  },
  {
   "cell_type": "code",
   "execution_count": 24,
   "metadata": {},
   "outputs": [
    {
     "data": {
      "text/html": [
       "<div>\n",
       "<style scoped>\n",
       "    .dataframe tbody tr th:only-of-type {\n",
       "        vertical-align: middle;\n",
       "    }\n",
       "\n",
       "    .dataframe tbody tr th {\n",
       "        vertical-align: top;\n",
       "    }\n",
       "\n",
       "    .dataframe thead th {\n",
       "        text-align: right;\n",
       "    }\n",
       "</style>\n",
       "<table border=\"1\" class=\"dataframe\">\n",
       "  <thead>\n",
       "    <tr style=\"text-align: right;\">\n",
       "      <th></th>\n",
       "      <th>Data</th>\n",
       "      <th>Direçao</th>\n",
       "      <th>Velocidade</th>\n",
       "    </tr>\n",
       "  </thead>\n",
       "  <tbody>\n",
       "    <tr>\n",
       "      <th>0</th>\n",
       "      <td>2008010100</td>\n",
       "      <td>100</td>\n",
       "      <td>4,112</td>\n",
       "    </tr>\n",
       "    <tr>\n",
       "      <th>1</th>\n",
       "      <td>2008010101</td>\n",
       "      <td>110</td>\n",
       "      <td>5,14</td>\n",
       "    </tr>\n",
       "    <tr>\n",
       "      <th>2</th>\n",
       "      <td>2008010102</td>\n",
       "      <td>110</td>\n",
       "      <td>5,654</td>\n",
       "    </tr>\n",
       "    <tr>\n",
       "      <th>3</th>\n",
       "      <td>2008010103</td>\n",
       "      <td>100</td>\n",
       "      <td>4,112</td>\n",
       "    </tr>\n",
       "    <tr>\n",
       "      <th>4</th>\n",
       "      <td>2008010104</td>\n",
       "      <td>100</td>\n",
       "      <td>5,14</td>\n",
       "    </tr>\n",
       "  </tbody>\n",
       "</table>\n",
       "</div>"
      ],
      "text/plain": [
       "         Data Direçao Velocidade\n",
       "0  2008010100     100      4,112\n",
       "1  2008010101     110       5,14\n",
       "2  2008010102     110      5,654\n",
       "3  2008010103     100      4,112\n",
       "4  2008010104     100       5,14"
      ]
     },
     "execution_count": 24,
     "metadata": {},
     "output_type": "execute_result"
    }
   ],
   "source": [
    "df3 = df2.rename(columns={ #renombramos las columnas para que sean legibles\n",
    "    \"Data e Hora\":\"Data\",\n",
    "    \"Direção do vento\":\"Velocidade\",\n",
    "    \"Velocidade do vento(m/s)\":\"Direçao\"\n",
    "   \n",
    "})\n",
    "df3.head()"
   ]
  },
  {
   "cell_type": "code",
   "execution_count": 29,
   "metadata": {},
   "outputs": [
    {
     "data": {
      "text/plain": [
       "<matplotlib.axes._subplots.AxesSubplot at 0x145b4b054a8>"
      ]
     },
     "execution_count": 29,
     "metadata": {},
     "output_type": "execute_result"
    },
    {
     "data": {
      "image/png": "[encoded data removed]",
      "text/plain": [
       "<Figure size 1800x720 with 2 Axes>"
      ]
     },
     "metadata": {
      "needs_background": "light"
     },
     "output_type": "display_data"
    }
   ],
   "source": [
    "msno.matrix(df3)"
   ]
  },
  {
   "cell_type": "code",
   "execution_count": 30,
   "metadata": {},
   "outputs": [
    {
     "data": {
      "text/html": [
       "<div>\n",
       "<style scoped>\n",
       "    .dataframe tbody tr th:only-of-type {\n",
       "        vertical-align: middle;\n",
       "    }\n",
       "\n",
       "    .dataframe tbody tr th {\n",
       "        vertical-align: top;\n",
       "    }\n",
       "\n",
       "    .dataframe thead th {\n",
       "        text-align: right;\n",
       "    }\n",
       "</style>\n",
       "<table border=\"1\" class=\"dataframe\">\n",
       "  <thead>\n",
       "    <tr style=\"text-align: right;\">\n",
       "      <th></th>\n",
       "      <th>Data</th>\n",
       "      <th>Direçao</th>\n",
       "      <th>Velocidade</th>\n",
       "    </tr>\n",
       "  </thead>\n",
       "  <tbody>\n",
       "    <tr>\n",
       "      <th>770</th>\n",
       "      <td>2008020123</td>\n",
       "      <td>NaN</td>\n",
       "      <td>0</td>\n",
       "    </tr>\n",
       "    <tr>\n",
       "      <th>1469</th>\n",
       "      <td>2008030114</td>\n",
       "      <td>NaN</td>\n",
       "      <td>0</td>\n",
       "    </tr>\n",
       "    <tr>\n",
       "      <th>3624</th>\n",
       "      <td>2008052105</td>\n",
       "      <td>NaN</td>\n",
       "      <td>0</td>\n",
       "    </tr>\n",
       "    <tr>\n",
       "      <th>3625</th>\n",
       "      <td>2008052105</td>\n",
       "      <td>NaN</td>\n",
       "      <td>0</td>\n",
       "    </tr>\n",
       "    <tr>\n",
       "      <th>3626</th>\n",
       "      <td>2008052106</td>\n",
       "      <td>NaN</td>\n",
       "      <td>0</td>\n",
       "    </tr>\n",
       "  </tbody>\n",
       "</table>\n",
       "</div>"
      ],
      "text/plain": [
       "            Data Direçao Velocidade\n",
       "770   2008020123     NaN          0\n",
       "1469  2008030114     NaN          0\n",
       "3624  2008052105     NaN          0\n",
       "3625  2008052105     NaN          0\n",
       "3626  2008052106     NaN          0"
      ]
     },
     "execution_count": 30,
     "metadata": {},
     "output_type": "execute_result"
    }
   ],
   "source": [
    "df3[df3.isnull().any(axis =1)].head()"
   ]
  },
  {
   "cell_type": "code",
   "execution_count": 31,
   "metadata": {},
   "outputs": [
    {
     "name": "stdout",
     "output_type": "stream",
     "text": [
      "Data | 0.0 | object\n",
      "Direçao | 0.0007011686143572621 | object\n",
      "Velocidade | 0.0 | object\n"
     ]
    }
   ],
   "source": [
    "n_records = len(df3)\n",
    "def valores_inexistentes_col(df):\n",
    "    for columna in df:\n",
    "        print(\"{} | {} | {}\".format(\n",
    "            df[columna].name, len(df[df[columna].isnull()]) / (1.0*n_records), df[columna].dtype\n",
    "        ))\n",
    "\n",
    "valores_inexistentes_col(df3)"
   ]
  },
  {
   "cell_type": "code",
   "execution_count": 32,
   "metadata": {},
   "outputs": [
    {
     "data": {
      "text/plain": [
       "Data          object\n",
       "Direçao       object\n",
       "Velocidade    object\n",
       "dtype: object"
      ]
     },
     "execution_count": 32,
     "metadata": {},
     "output_type": "execute_result"
    }
   ],
   "source": [
    "df3.dtypes"
   ]
  },
  {
   "cell_type": "code",
   "execution_count": 33,
   "metadata": {},
   "outputs": [
    {
     "data": {
      "text/plain": [
       "array(['100', '110', '120', '130', '150', '140', '80', '90', '190', '160',\n",
       "       '180', '170', '200', '60', '50', '70', '40', '30', '20', '0',\n",
       "       '240', '260', '250', '280', '220', '270', nan, '230', '210', '290',\n",
       "       '330', '10', '310', '300', '320', '340', '350', '360', 'KT', '700',\n",
       "       '116', 'CAV', '131', 'SBF', '317', '12', '14', '231', '9100',\n",
       "       '121', '308', '91', 'RAN', '404', '405', '1220', '805', '117',\n",
       "       '208', '42', '152', '11', '36', '31', '51', 'COR', '918', '191',\n",
       "       '61', '122', '211', '311', '71', '81', '181', '201', '212', '251',\n",
       "       '171', '151', '41', '999', '68', '6', 'VRB'], dtype=object)"
      ]
     },
     "execution_count": 33,
     "metadata": {},
     "output_type": "execute_result"
    }
   ],
   "source": [
    "df3.Direçao.unique()"
   ]
  },
  {
   "cell_type": "code",
   "execution_count": 34,
   "metadata": {},
   "outputs": [
    {
     "data": {
      "text/plain": [
       "array(['4,112', '5,14', '5,654', '3,598', '6,168', '4,626', '7,71',\n",
       "       '3,084', '2,57', '2,056', '6,682', '1,542', '7,196', '9,766',\n",
       "       '8,224', '8,738', '9,252', '1,028', '0,514', '0', '#VALOR!',\n",
       "       '11,308', '10,28', '10,794', '11,822', '13,878', '46,26', '30,84',\n",
       "       '20,56', '41,12', '15,42', '12,336', '35,98', '25,7', '13,364',\n",
       "       '12,85', '14,906', '16,962', '29,298', '14,392'], dtype=object)"
      ]
     },
     "execution_count": 34,
     "metadata": {},
     "output_type": "execute_result"
    }
   ],
   "source": [
    "df3.Velocidade.unique()"
   ]
  },
  {
   "cell_type": "markdown",
   "metadata": {},
   "source": [
    "As before we have problems in the data.\n",
    "* Direção_ It seems that in addition to having null values, there are values ​​that have letters, they have an error in the reading of the data so I will proceed to eliminate them, others that go above 360, since it is in degrees, this is about a mistake. What I decide to do is eliminate the entire row of this data. As with the previous one, the null values ​​will be passed to 0 and then we will not take them into account.\n",
    "\n",
    "* Speed: The first thing we can observe in speed is that it is separated by \",\" and not by \".\" so we'll have to change it first of all, so we have a #VALUE! that it will have to replace it with a nan and eliminate it."
   ]
  },
  {
   "cell_type": "code",
   "execution_count": 35,
   "metadata": {},
   "outputs": [
    {
     "data": {
      "text/html": [
       "<div>\n",
       "<style scoped>\n",
       "    .dataframe tbody tr th:only-of-type {\n",
       "        vertical-align: middle;\n",
       "    }\n",
       "\n",
       "    .dataframe tbody tr th {\n",
       "        vertical-align: top;\n",
       "    }\n",
       "\n",
       "    .dataframe thead th {\n",
       "        text-align: right;\n",
       "    }\n",
       "</style>\n",
       "<table border=\"1\" class=\"dataframe\">\n",
       "  <thead>\n",
       "    <tr style=\"text-align: right;\">\n",
       "      <th></th>\n",
       "      <th>Data</th>\n",
       "      <th>Direçao</th>\n",
       "      <th>Velocidade</th>\n",
       "    </tr>\n",
       "  </thead>\n",
       "  <tbody>\n",
       "    <tr>\n",
       "      <th>2111</th>\n",
       "      <td>2008032607</td>\n",
       "      <td>KT</td>\n",
       "      <td>0</td>\n",
       "    </tr>\n",
       "  </tbody>\n",
       "</table>\n",
       "</div>"
      ],
      "text/plain": [
       "            Data Direçao Velocidade\n",
       "2111  2008032607      KT          0"
      ]
     },
     "execution_count": 35,
     "metadata": {},
     "output_type": "execute_result"
    }
   ],
   "source": [
    "df3[df3[\"Direçao\"]== \"KT\"]"
   ]
  },
  {
   "cell_type": "code",
   "execution_count": 36,
   "metadata": {},
   "outputs": [
    {
     "data": {
      "text/plain": [
       "array(['100', '110', '120', '130', '150', '140', '80', '90', '190', '160',\n",
       "       '180', '170', '200', '60', '50', '70', '40', '30', '20', '0',\n",
       "       '240', '260', '250', '280', '220', '270', nan, '230', '210', '290',\n",
       "       '330', '10', '310', '300', '320', '340', '350', '360', '116',\n",
       "       '131', '317', '12', '14', '231', '121', '308', '91', '117', '208',\n",
       "       '42', '152', '11', '36', '31', '51', '191', '61', '122', '211',\n",
       "       '311', '71', '81', '181', '201', '212', '251', '171', '151', '41',\n",
       "       '68', '6'], dtype=object)"
      ]
     },
     "execution_count": 36,
     "metadata": {},
     "output_type": "execute_result"
    }
   ],
   "source": [
    "df4 = df3[(df3.Direçao != \"KT\") & (df3.Direçao != \"SBF\") & (df3.Direçao != \"CAV\") & (df3.Direçao != \"9100\") & \n",
    "          (df3.Direçao != \"700\") & (df3.Direçao != \"RAN\") & (df3.Direçao != \"404\") & (df3.Direçao != \"405\") &\n",
    "          (df3.Direçao != \"1220\") & (df3.Direçao != \"RAN\") & (df3.Direçao != \"805\") &(df3.Direçao != \"COR\") &\n",
    "          (df3.Direçao != \"918\") & (df3.Direçao != \"999\") & (df3.Direçao != \"VRB\")\n",
    "          \n",
    "         ]\n",
    "df4.Direçao.unique()"
   ]
  },
  {
   "cell_type": "code",
   "execution_count": 37,
   "metadata": {},
   "outputs": [
    {
     "name": "stderr",
     "output_type": "stream",
     "text": [
      "C:\\Users\\Crespo_sexy\\Anaconda3\\envs\\tensorflow\\lib\\site-packages\\ipykernel_launcher.py:1: SettingWithCopyWarning: \n",
      "A value is trying to be set on a copy of a slice from a DataFrame.\n",
      "Try using .loc[row_indexer,col_indexer] = value instead\n",
      "\n",
      "See the caveats in the documentation: http://pandas.pydata.org/pandas-docs/stable/indexing.html#indexing-view-versus-copy\n",
      "  \"\"\"Entry point for launching an IPython kernel.\n"
     ]
    },
    {
     "data": {
      "text/plain": [
       "array([100, 110, 120, 130, 150, 140,  80,  90, 190, 160, 180, 170, 200,\n",
       "        60,  50,  70,  40,  30,  20,   0, 240, 260, 250, 280, 220, 270,\n",
       "       230, 210, 290, 330,  10, 310, 300, 320, 340, 350, 360, 116, 131,\n",
       "       317,  12,  14, 231, 121, 308,  91, 117, 208,  42, 152,  11,  36,\n",
       "        31,  51, 191,  61, 122, 211, 311,  71,  81, 181, 201, 212, 251,\n",
       "       171, 151,  41,  68,   6], dtype=int64)"
      ]
     },
     "execution_count": 37,
     "metadata": {},
     "output_type": "execute_result"
    }
   ],
   "source": [
    "df4[\"Direçao\"]=pd.to_numeric(df4[\"Direçao\"]).fillna(0).astype(np.int64)\n",
    "df4[\"Direçao\"].unique()"
   ]
  },
  {
   "cell_type": "code",
   "execution_count": 38,
   "metadata": {},
   "outputs": [
    {
     "name": "stderr",
     "output_type": "stream",
     "text": [
      "C:\\Users\\Crespo_sexy\\Anaconda3\\envs\\tensorflow\\lib\\site-packages\\ipykernel_launcher.py:1: SettingWithCopyWarning: \n",
      "A value is trying to be set on a copy of a slice from a DataFrame.\n",
      "Try using .loc[row_indexer,col_indexer] = value instead\n",
      "\n",
      "See the caveats in the documentation: http://pandas.pydata.org/pandas-docs/stable/indexing.html#indexing-view-versus-copy\n",
      "  \"\"\"Entry point for launching an IPython kernel.\n"
     ]
    },
    {
     "data": {
      "text/html": [
       "<div>\n",
       "<style scoped>\n",
       "    .dataframe tbody tr th:only-of-type {\n",
       "        vertical-align: middle;\n",
       "    }\n",
       "\n",
       "    .dataframe tbody tr th {\n",
       "        vertical-align: top;\n",
       "    }\n",
       "\n",
       "    .dataframe thead th {\n",
       "        text-align: right;\n",
       "    }\n",
       "</style>\n",
       "<table border=\"1\" class=\"dataframe\">\n",
       "  <thead>\n",
       "    <tr style=\"text-align: right;\">\n",
       "      <th></th>\n",
       "      <th>Data</th>\n",
       "      <th>Direçao</th>\n",
       "      <th>Velocidade</th>\n",
       "    </tr>\n",
       "  </thead>\n",
       "  <tbody>\n",
       "    <tr>\n",
       "      <th>0</th>\n",
       "      <td>2008010100</td>\n",
       "      <td>100</td>\n",
       "      <td>4.112</td>\n",
       "    </tr>\n",
       "    <tr>\n",
       "      <th>1</th>\n",
       "      <td>2008010101</td>\n",
       "      <td>110</td>\n",
       "      <td>5.14</td>\n",
       "    </tr>\n",
       "    <tr>\n",
       "      <th>2</th>\n",
       "      <td>2008010102</td>\n",
       "      <td>110</td>\n",
       "      <td>5.654</td>\n",
       "    </tr>\n",
       "    <tr>\n",
       "      <th>3</th>\n",
       "      <td>2008010103</td>\n",
       "      <td>100</td>\n",
       "      <td>4.112</td>\n",
       "    </tr>\n",
       "    <tr>\n",
       "      <th>4</th>\n",
       "      <td>2008010104</td>\n",
       "      <td>100</td>\n",
       "      <td>5.14</td>\n",
       "    </tr>\n",
       "  </tbody>\n",
       "</table>\n",
       "</div>"
      ],
      "text/plain": [
       "         Data  Direçao Velocidade\n",
       "0  2008010100      100      4.112\n",
       "1  2008010101      110       5.14\n",
       "2  2008010102      110      5.654\n",
       "3  2008010103      100      4.112\n",
       "4  2008010104      100       5.14"
      ]
     },
     "execution_count": 38,
     "metadata": {},
     "output_type": "execute_result"
    }
   ],
   "source": [
    "df4['Velocidade'] = [x.replace(',', '.') for x in df4['Velocidade']]\n",
    "\n",
    "df4.head()"
   ]
  },
  {
   "cell_type": "code",
   "execution_count": 39,
   "metadata": {},
   "outputs": [
    {
     "data": {
      "text/plain": [
       "array(['4.112', '5.14', '5.654', '3.598', '6.168', '4.626', '7.71',\n",
       "       '3.084', '2.57', '2.056', '6.682', '1.542', '7.196', '9.766',\n",
       "       '8.224', '8.738', '9.252', '1.028', '0.514', '0', '11.308',\n",
       "       '10.28', '10.794', '11.822', '13.878', '46.26', '20.56', '41.12',\n",
       "       '15.42', '12.336', '35.98', '25.7', '30.84', '13.364', '12.85',\n",
       "       '14.906', '16.962', '29.298', '14.392'], dtype=object)"
      ]
     },
     "execution_count": 39,
     "metadata": {},
     "output_type": "execute_result"
    }
   ],
   "source": [
    "df4 = df4[df4[\"Velocidade\"]!=\"#VALOR!\"]\n",
    "df4.Velocidade.unique()"
   ]
  },
  {
   "cell_type": "code",
   "execution_count": 40,
   "metadata": {},
   "outputs": [],
   "source": [
    "df4[\"Velocidade\"]= pd.to_numeric(df4[\"Velocidade\"])"
   ]
  },
  {
   "cell_type": "code",
   "execution_count": 41,
   "metadata": {},
   "outputs": [
    {
     "data": {
      "text/plain": [
       "Data          datetime64[ns]\n",
       "Direçao                int64\n",
       "Velocidade           float64\n",
       "dtype: object"
      ]
     },
     "execution_count": 41,
     "metadata": {},
     "output_type": "execute_result"
    }
   ],
   "source": [
    "df4[\"Data\"] = pd.to_datetime(df4[\"Data\"], yearfirst=True, format='%Y%m%d%H')\n",
    "df4.dtypes"
   ]
  },
  {
   "cell_type": "code",
   "execution_count": 42,
   "metadata": {},
   "outputs": [
    {
     "data": {
      "text/html": [
       "<div>\n",
       "<style scoped>\n",
       "    .dataframe tbody tr th:only-of-type {\n",
       "        vertical-align: middle;\n",
       "    }\n",
       "\n",
       "    .dataframe tbody tr th {\n",
       "        vertical-align: top;\n",
       "    }\n",
       "\n",
       "    .dataframe thead th {\n",
       "        text-align: right;\n",
       "    }\n",
       "</style>\n",
       "<table border=\"1\" class=\"dataframe\">\n",
       "  <thead>\n",
       "    <tr style=\"text-align: right;\">\n",
       "      <th></th>\n",
       "      <th>Data</th>\n",
       "      <th>Direçao</th>\n",
       "      <th>Velocidade</th>\n",
       "    </tr>\n",
       "  </thead>\n",
       "  <tbody>\n",
       "    <tr>\n",
       "      <th>0</th>\n",
       "      <td>2008-01-01 00:00:00</td>\n",
       "      <td>100</td>\n",
       "      <td>4.112</td>\n",
       "    </tr>\n",
       "    <tr>\n",
       "      <th>1</th>\n",
       "      <td>2008-01-01 01:00:00</td>\n",
       "      <td>110</td>\n",
       "      <td>5.140</td>\n",
       "    </tr>\n",
       "    <tr>\n",
       "      <th>2</th>\n",
       "      <td>2008-01-01 02:00:00</td>\n",
       "      <td>110</td>\n",
       "      <td>5.654</td>\n",
       "    </tr>\n",
       "    <tr>\n",
       "      <th>3</th>\n",
       "      <td>2008-01-01 03:00:00</td>\n",
       "      <td>100</td>\n",
       "      <td>4.112</td>\n",
       "    </tr>\n",
       "    <tr>\n",
       "      <th>4</th>\n",
       "      <td>2008-01-01 04:00:00</td>\n",
       "      <td>100</td>\n",
       "      <td>5.140</td>\n",
       "    </tr>\n",
       "  </tbody>\n",
       "</table>\n",
       "</div>"
      ],
      "text/plain": [
       "                 Data  Direçao  Velocidade\n",
       "0 2008-01-01 00:00:00      100       4.112\n",
       "1 2008-01-01 01:00:00      110       5.140\n",
       "2 2008-01-01 02:00:00      110       5.654\n",
       "3 2008-01-01 03:00:00      100       4.112\n",
       "4 2008-01-01 04:00:00      100       5.140"
      ]
     },
     "execution_count": 42,
     "metadata": {},
     "output_type": "execute_result"
    }
   ],
   "source": [
    "df4.head()"
   ]
  },
  {
   "cell_type": "markdown",
   "metadata": {},
   "source": [
    "# Joining the two files"
   ]
  },
  {
   "cell_type": "code",
   "execution_count": 43,
   "metadata": {},
   "outputs": [
    {
     "data": {
      "text/plain": [
       "(28268, 3)"
      ]
     },
     "execution_count": 43,
     "metadata": {},
     "output_type": "execute_result"
    }
   ],
   "source": [
    "df1.shape"
   ]
  },
  {
   "cell_type": "code",
   "execution_count": 44,
   "metadata": {},
   "outputs": [
    {
     "data": {
      "text/html": [
       "<div>\n",
       "<style scoped>\n",
       "    .dataframe tbody tr th:only-of-type {\n",
       "        vertical-align: middle;\n",
       "    }\n",
       "\n",
       "    .dataframe tbody tr th {\n",
       "        vertical-align: top;\n",
       "    }\n",
       "\n",
       "    .dataframe thead th {\n",
       "        text-align: right;\n",
       "    }\n",
       "</style>\n",
       "<table border=\"1\" class=\"dataframe\">\n",
       "  <thead>\n",
       "    <tr style=\"text-align: right;\">\n",
       "      <th></th>\n",
       "      <th>Data</th>\n",
       "      <th>Velocidade</th>\n",
       "      <th>Direçao</th>\n",
       "    </tr>\n",
       "  </thead>\n",
       "  <tbody>\n",
       "    <tr>\n",
       "      <th>0</th>\n",
       "      <td>2015-07-17 00:00:00</td>\n",
       "      <td>5.654</td>\n",
       "      <td>120</td>\n",
       "    </tr>\n",
       "    <tr>\n",
       "      <th>1</th>\n",
       "      <td>2015-07-17 01:00:00</td>\n",
       "      <td>7.196</td>\n",
       "      <td>150</td>\n",
       "    </tr>\n",
       "    <tr>\n",
       "      <th>2</th>\n",
       "      <td>2015-07-17 02:00:00</td>\n",
       "      <td>5.140</td>\n",
       "      <td>120</td>\n",
       "    </tr>\n",
       "    <tr>\n",
       "      <th>3</th>\n",
       "      <td>2015-07-17 03:00:00</td>\n",
       "      <td>8.224</td>\n",
       "      <td>140</td>\n",
       "    </tr>\n",
       "    <tr>\n",
       "      <th>4</th>\n",
       "      <td>2015-07-17 04:00:00</td>\n",
       "      <td>5.140</td>\n",
       "      <td>170</td>\n",
       "    </tr>\n",
       "  </tbody>\n",
       "</table>\n",
       "</div>"
      ],
      "text/plain": [
       "                 Data  Velocidade  Direçao\n",
       "0 2015-07-17 00:00:00       5.654      120\n",
       "1 2015-07-17 01:00:00       7.196      150\n",
       "2 2015-07-17 02:00:00       5.140      120\n",
       "3 2015-07-17 03:00:00       8.224      140\n",
       "4 2015-07-17 04:00:00       5.140      170"
      ]
     },
     "execution_count": 44,
     "metadata": {},
     "output_type": "execute_result"
    }
   ],
   "source": [
    "df1.head()"
   ]
  },
  {
   "cell_type": "code",
   "execution_count": 45,
   "metadata": {},
   "outputs": [
    {
     "data": {
      "text/plain": [
       "(59845, 3)"
      ]
     },
     "execution_count": 45,
     "metadata": {},
     "output_type": "execute_result"
    }
   ],
   "source": [
    "df4.shape"
   ]
  },
  {
   "cell_type": "code",
   "execution_count": 46,
   "metadata": {},
   "outputs": [],
   "source": [
    "df4= df4[['Data',\"Velocidade\",\"Direçao\",]]"
   ]
  },
  {
   "cell_type": "code",
   "execution_count": 47,
   "metadata": {},
   "outputs": [
    {
     "data": {
      "text/html": [
       "<div>\n",
       "<style scoped>\n",
       "    .dataframe tbody tr th:only-of-type {\n",
       "        vertical-align: middle;\n",
       "    }\n",
       "\n",
       "    .dataframe tbody tr th {\n",
       "        vertical-align: top;\n",
       "    }\n",
       "\n",
       "    .dataframe thead th {\n",
       "        text-align: right;\n",
       "    }\n",
       "</style>\n",
       "<table border=\"1\" class=\"dataframe\">\n",
       "  <thead>\n",
       "    <tr style=\"text-align: right;\">\n",
       "      <th></th>\n",
       "      <th>Data</th>\n",
       "      <th>Velocidade</th>\n",
       "      <th>Direçao</th>\n",
       "    </tr>\n",
       "  </thead>\n",
       "  <tbody>\n",
       "    <tr>\n",
       "      <th>0</th>\n",
       "      <td>2008-01-01 00:00:00</td>\n",
       "      <td>4.112</td>\n",
       "      <td>100</td>\n",
       "    </tr>\n",
       "    <tr>\n",
       "      <th>1</th>\n",
       "      <td>2008-01-01 01:00:00</td>\n",
       "      <td>5.140</td>\n",
       "      <td>110</td>\n",
       "    </tr>\n",
       "    <tr>\n",
       "      <th>2</th>\n",
       "      <td>2008-01-01 02:00:00</td>\n",
       "      <td>5.654</td>\n",
       "      <td>110</td>\n",
       "    </tr>\n",
       "    <tr>\n",
       "      <th>3</th>\n",
       "      <td>2008-01-01 03:00:00</td>\n",
       "      <td>4.112</td>\n",
       "      <td>100</td>\n",
       "    </tr>\n",
       "    <tr>\n",
       "      <th>4</th>\n",
       "      <td>2008-01-01 04:00:00</td>\n",
       "      <td>5.140</td>\n",
       "      <td>100</td>\n",
       "    </tr>\n",
       "  </tbody>\n",
       "</table>\n",
       "</div>"
      ],
      "text/plain": [
       "                 Data  Velocidade  Direçao\n",
       "0 2008-01-01 00:00:00       4.112      100\n",
       "1 2008-01-01 01:00:00       5.140      110\n",
       "2 2008-01-01 02:00:00       5.654      110\n",
       "3 2008-01-01 03:00:00       4.112      100\n",
       "4 2008-01-01 04:00:00       5.140      100"
      ]
     },
     "execution_count": 47,
     "metadata": {},
     "output_type": "execute_result"
    }
   ],
   "source": [
    "df4.head()"
   ]
  },
  {
   "cell_type": "code",
   "execution_count": 48,
   "metadata": {},
   "outputs": [
    {
     "data": {
      "text/plain": [
       "(88113, 3)"
      ]
     },
     "execution_count": 48,
     "metadata": {},
     "output_type": "execute_result"
    }
   ],
   "source": [
    "Totaldata = pd.concat([df4, df1], axis = 0,ignore_index = True)\n",
    "Totaldata.shape"
   ]
  },
  {
   "cell_type": "code",
   "execution_count": 49,
   "metadata": {},
   "outputs": [
    {
     "data": {
      "text/html": [
       "<div>\n",
       "<style scoped>\n",
       "    .dataframe tbody tr th:only-of-type {\n",
       "        vertical-align: middle;\n",
       "    }\n",
       "\n",
       "    .dataframe tbody tr th {\n",
       "        vertical-align: top;\n",
       "    }\n",
       "\n",
       "    .dataframe thead th {\n",
       "        text-align: right;\n",
       "    }\n",
       "</style>\n",
       "<table border=\"1\" class=\"dataframe\">\n",
       "  <thead>\n",
       "    <tr style=\"text-align: right;\">\n",
       "      <th></th>\n",
       "      <th>Data</th>\n",
       "      <th>Velocidade</th>\n",
       "      <th>Direçao</th>\n",
       "    </tr>\n",
       "  </thead>\n",
       "  <tbody>\n",
       "    <tr>\n",
       "      <th>88108</th>\n",
       "      <td>2018-10-22 18:00:00</td>\n",
       "      <td>6.682</td>\n",
       "      <td>70</td>\n",
       "    </tr>\n",
       "    <tr>\n",
       "      <th>88109</th>\n",
       "      <td>2018-10-22 19:00:00</td>\n",
       "      <td>5.654</td>\n",
       "      <td>70</td>\n",
       "    </tr>\n",
       "    <tr>\n",
       "      <th>88110</th>\n",
       "      <td>2018-10-22 20:00:00</td>\n",
       "      <td>3.598</td>\n",
       "      <td>70</td>\n",
       "    </tr>\n",
       "    <tr>\n",
       "      <th>88111</th>\n",
       "      <td>2018-10-22 21:00:00</td>\n",
       "      <td>4.112</td>\n",
       "      <td>60</td>\n",
       "    </tr>\n",
       "    <tr>\n",
       "      <th>88112</th>\n",
       "      <td>2018-10-22 22:00:00</td>\n",
       "      <td>4.112</td>\n",
       "      <td>70</td>\n",
       "    </tr>\n",
       "  </tbody>\n",
       "</table>\n",
       "</div>"
      ],
      "text/plain": [
       "                     Data  Velocidade  Direçao\n",
       "88108 2018-10-22 18:00:00       6.682       70\n",
       "88109 2018-10-22 19:00:00       5.654       70\n",
       "88110 2018-10-22 20:00:00       3.598       70\n",
       "88111 2018-10-22 21:00:00       4.112       60\n",
       "88112 2018-10-22 22:00:00       4.112       70"
      ]
     },
     "execution_count": 49,
     "metadata": {},
     "output_type": "execute_result"
    }
   ],
   "source": [
    "Totaldata.tail()"
   ]
  },
  {
   "cell_type": "code",
   "execution_count": 50,
   "metadata": {},
   "outputs": [],
   "source": [
    "Totaldata.to_pickle(\"dataset/excel.datos.amanda.mod.por.ella/Totaldata.pkl\")"
   ]
  }
 ],
 "metadata": {
  "kernelspec": {
   "display_name": "Python 3",
   "language": "python",
   "name": "python3"
  },
  "language_info": {
   "codemirror_mode": {
    "name": "ipython",
    "version": 3
   },
   "file_extension": ".py",
   "mimetype": "text/x-python",
   "name": "python",
   "nbconvert_exporter": "python",
   "pygments_lexer": "ipython3",
   "version": "3.7.1"
  }
 },
 "nbformat": 4,
 "nbformat_minor": 2
}
